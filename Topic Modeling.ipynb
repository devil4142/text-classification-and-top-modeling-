{
 "cells": [
  {
   "cell_type": "code",
   "execution_count": 1,
   "id": "6cf5c357-81da-4957-b4ea-d2438c6d311c",
   "metadata": {},
   "outputs": [],
   "source": [
    "# Load required libraries"
   ]
  },
  {
   "cell_type": "code",
   "execution_count": 2,
   "id": "a77e25fd-7801-4b41-9c43-30df09d497f5",
   "metadata": {},
   "outputs": [
    {
     "name": "stdout",
     "output_type": "stream",
     "text": [
      "Collecting umap\n",
      "  Downloading umap-0.1.1.tar.gz (3.2 kB)\n",
      "  Preparing metadata (setup.py): started\n",
      "  Preparing metadata (setup.py): finished with status 'done'\n",
      "Building wheels for collected packages: umap\n",
      "  Building wheel for umap (setup.py): started\n",
      "  Building wheel for umap (setup.py): finished with status 'done'\n",
      "  Created wheel for umap: filename=umap-0.1.1-py3-none-any.whl size=3549 sha256=45d43946d4828be80413d32d2265d7c2f1c31856e386255b7f605f86d0d72e12\n",
      "  Stored in directory: c:\\users\\ajay\\appdata\\local\\pip\\cache\\wheels\\82\\d8\\73\\e9eb3334baaad795ff0278363ff1aca7568bdf2793e452a527\n",
      "Successfully built umap\n",
      "Installing collected packages: umap\n",
      "Successfully installed umap-0.1.1\n",
      "Note: you may need to restart the kernel to use updated packages.\n"
     ]
    }
   ],
   "source": [
    "pip install umap"
   ]
  },
  {
   "cell_type": "code",
   "execution_count": 3,
   "id": "27301330-4856-478d-a161-9bc05b03ed18",
   "metadata": {},
   "outputs": [
    {
     "name": "stdout",
     "output_type": "stream",
     "text": [
      "Collecting pyLDAvisNote: you may need to restart the kernel to use updated packages.\n",
      "\n",
      "  Downloading pyLDAvis-3.4.1-py3-none-any.whl.metadata (4.2 kB)\n",
      "Requirement already satisfied: numpy>=1.24.2 in c:\\users\\ajay\\anaconda3\\lib\\site-packages (from pyLDAvis) (1.26.4)\n",
      "Requirement already satisfied: scipy in c:\\users\\ajay\\anaconda3\\lib\\site-packages (from pyLDAvis) (1.11.4)\n",
      "Requirement already satisfied: pandas>=2.0.0 in c:\\users\\ajay\\anaconda3\\lib\\site-packages (from pyLDAvis) (2.1.4)\n",
      "Requirement already satisfied: joblib>=1.2.0 in c:\\users\\ajay\\anaconda3\\lib\\site-packages (from pyLDAvis) (1.2.0)\n",
      "Requirement already satisfied: jinja2 in c:\\users\\ajay\\anaconda3\\lib\\site-packages (from pyLDAvis) (3.1.3)\n",
      "Requirement already satisfied: numexpr in c:\\users\\ajay\\anaconda3\\lib\\site-packages (from pyLDAvis) (2.8.7)\n",
      "Collecting funcy (from pyLDAvis)\n",
      "  Downloading funcy-2.0-py2.py3-none-any.whl.metadata (5.9 kB)\n",
      "Requirement already satisfied: scikit-learn>=1.0.0 in c:\\users\\ajay\\anaconda3\\lib\\site-packages (from pyLDAvis) (1.4.1.post1)\n",
      "Requirement already satisfied: gensim in c:\\users\\ajay\\anaconda3\\lib\\site-packages (from pyLDAvis) (4.3.0)\n",
      "Requirement already satisfied: setuptools in c:\\users\\ajay\\anaconda3\\lib\\site-packages (from pyLDAvis) (68.2.2)\n",
      "Requirement already satisfied: python-dateutil>=2.8.2 in c:\\users\\ajay\\anaconda3\\lib\\site-packages (from pandas>=2.0.0->pyLDAvis) (2.8.2)\n",
      "Requirement already satisfied: pytz>=2020.1 in c:\\users\\ajay\\anaconda3\\lib\\site-packages (from pandas>=2.0.0->pyLDAvis) (2023.3.post1)\n",
      "Requirement already satisfied: tzdata>=2022.1 in c:\\users\\ajay\\anaconda3\\lib\\site-packages (from pandas>=2.0.0->pyLDAvis) (2023.3)\n",
      "Requirement already satisfied: threadpoolctl>=2.0.0 in c:\\users\\ajay\\anaconda3\\lib\\site-packages (from scikit-learn>=1.0.0->pyLDAvis) (2.2.0)\n",
      "Requirement already satisfied: smart-open>=1.8.1 in c:\\users\\ajay\\anaconda3\\lib\\site-packages (from gensim->pyLDAvis) (5.2.1)\n",
      "Collecting FuzzyTM>=0.4.0 (from gensim->pyLDAvis)\n",
      "  Downloading FuzzyTM-2.0.5-py3-none-any.whl.metadata (7.8 kB)\n",
      "Requirement already satisfied: MarkupSafe>=2.0 in c:\\users\\ajay\\anaconda3\\lib\\site-packages (from jinja2->pyLDAvis) (2.1.3)\n",
      "Collecting pyfume (from FuzzyTM>=0.4.0->gensim->pyLDAvis)\n",
      "  Downloading pyFUME-0.3.1-py3-none-any.whl.metadata (9.7 kB)\n",
      "Requirement already satisfied: six>=1.5 in c:\\users\\ajay\\anaconda3\\lib\\site-packages (from python-dateutil>=2.8.2->pandas>=2.0.0->pyLDAvis) (1.16.0)\n",
      "Collecting simpful (from pyfume->FuzzyTM>=0.4.0->gensim->pyLDAvis)\n",
      "  Downloading simpful-2.12.0-py3-none-any.whl.metadata (4.8 kB)\n",
      "Collecting fst-pso (from pyfume->FuzzyTM>=0.4.0->gensim->pyLDAvis)\n",
      "  Downloading fst-pso-1.8.1.tar.gz (18 kB)\n",
      "  Preparing metadata (setup.py): started\n",
      "  Preparing metadata (setup.py): finished with status 'done'\n",
      "Requirement already satisfied: typing-extensions in c:\\users\\ajay\\anaconda3\\lib\\site-packages (from pyfume->FuzzyTM>=0.4.0->gensim->pyLDAvis) (4.10.0)\n",
      "Collecting miniful (from fst-pso->pyfume->FuzzyTM>=0.4.0->gensim->pyLDAvis)\n",
      "  Downloading miniful-0.0.6.tar.gz (2.8 kB)\n",
      "  Preparing metadata (setup.py): started\n",
      "  Preparing metadata (setup.py): finished with status 'done'\n",
      "Downloading pyLDAvis-3.4.1-py3-none-any.whl (2.6 MB)\n",
      "   ---------------------------------------- 0.0/2.6 MB ? eta -:--:--\n",
      "   ---------------------------------------- 0.0/2.6 MB ? eta -:--:--\n",
      "   -- ------------------------------------- 0.2/2.6 MB 1.9 MB/s eta 0:00:02\n",
      "   ------------- -------------------------- 0.9/2.6 MB 7.0 MB/s eta 0:00:01\n",
      "   ---------------------------- ----------- 1.9/2.6 MB 10.8 MB/s eta 0:00:01\n",
      "   ---------------------------------------  2.6/2.6 MB 12.6 MB/s eta 0:00:01\n",
      "   ---------------------------------------- 2.6/2.6 MB 10.4 MB/s eta 0:00:00\n",
      "Downloading funcy-2.0-py2.py3-none-any.whl (30 kB)\n",
      "Downloading FuzzyTM-2.0.5-py3-none-any.whl (29 kB)\n",
      "Downloading pyFUME-0.3.1-py3-none-any.whl (59 kB)\n",
      "   ---------------------------------------- 0.0/59.6 kB ? eta -:--:--\n",
      "   ---------------------------------------- 59.6/59.6 kB 3.1 MB/s eta 0:00:00\n",
      "Downloading simpful-2.12.0-py3-none-any.whl (24 kB)\n",
      "Building wheels for collected packages: fst-pso, miniful\n",
      "  Building wheel for fst-pso (setup.py): started\n",
      "  Building wheel for fst-pso (setup.py): finished with status 'done'\n",
      "  Created wheel for fst-pso: filename=fst_pso-1.8.1-py3-none-any.whl size=20451 sha256=58731c937a43c1bf3317bc4af33c66da12ba6446b27feb8763899108203d9a80\n",
      "  Stored in directory: c:\\users\\ajay\\appdata\\local\\pip\\cache\\wheels\\69\\f5\\e5\\18ad53fe1ed6b2af9fad05ec052e4acbac8e92441df44bad2e\n",
      "  Building wheel for miniful (setup.py): started\n",
      "  Building wheel for miniful (setup.py): finished with status 'done'\n",
      "  Created wheel for miniful: filename=miniful-0.0.6-py3-none-any.whl size=3517 sha256=31ce699acb2b01f0c7b2a0b27ad9065eb88d5568e5ec21afcc26cf250e81dd25\n",
      "  Stored in directory: c:\\users\\ajay\\appdata\\local\\pip\\cache\\wheels\\9d\\ff\\2f\\afe4cd56f47de147407705626517d68bea0f3b74eb1fb168e6\n",
      "Successfully built fst-pso miniful\n",
      "Installing collected packages: funcy, simpful, miniful, fst-pso, pyfume, FuzzyTM, pyLDAvis\n",
      "Successfully installed FuzzyTM-2.0.5 fst-pso-1.8.1 funcy-2.0 miniful-0.0.6 pyLDAvis-3.4.1 pyfume-0.3.1 simpful-2.12.0\n"
     ]
    }
   ],
   "source": [
    "pip install pyLDAvis"
   ]
  },
  {
   "cell_type": "code",
   "execution_count": 5,
   "id": "737aabef-4b32-411f-8d57-06f9161cd61c",
   "metadata": {},
   "outputs": [
    {
     "name": "stderr",
     "output_type": "stream",
     "text": [
      "[nltk_data] Downloading package stopwords to\n",
      "[nltk_data]     C:\\Users\\AJAY\\AppData\\Roaming\\nltk_data...\n",
      "[nltk_data]   Package stopwords is already up-to-date!\n",
      "[nltk_data] Downloading package punkt to\n",
      "[nltk_data]     C:\\Users\\AJAY\\AppData\\Roaming\\nltk_data...\n",
      "[nltk_data]   Package punkt is already up-to-date!\n"
     ]
    }
   ],
   "source": [
    "import numpy as np\n",
    "import pandas as pd\n",
    "import os\n",
    "import re\n",
    "import nltk\n",
    "nltk.download('stopwords')\n",
    "nltk.download('punkt')\n",
    "from nltk.corpus import stopwords\n",
    "STOPWORDS = set(stopwords.words('english'))\n",
    "import matplotlib.pyplot as plt\n",
    "from sklearn.decomposition import TruncatedSVD\n",
    "import umap\n",
    "from sklearn.feature_extraction.text import CountVectorizer,TfidfVectorizer\n",
    "from sklearn.model_selection import train_test_split\n",
    "from sklearn.ensemble import RandomForestClassifier\n",
    "from sklearn.linear_model import LogisticRegression\n",
    "from sklearn.svm import LinearSVC\n",
    "from sklearn.naive_bayes import MultinomialNB\n",
    "from sklearn.metrics import classification_report, confusion_matrix, accuracy_score\n",
    "from sklearn.metrics import roc_auc_score\n",
    "from nltk import sent_tokenize, word_tokenize\n",
    "import gensim\n",
    "from gensim import corpora\n",
    "import pyLDAvis\n",
    "import pyLDAvis.gensim_models as gensimvis\n",
    "import matplotlib.pyplot as plt\n",
    "import seaborn as sns\n",
    "%matplotlib inline\n",
    "     \n",
    "import warnings\n",
    "warnings.filterwarnings('ignore')"
   ]
  },
  {
   "cell_type": "code",
   "execution_count": 6,
   "id": "25d907a5-7f77-4e76-87a8-7506c81770bd",
   "metadata": {},
   "outputs": [],
   "source": [
    "input_data = pd.read_csv('dataset.csv')"
   ]
  },
  {
   "cell_type": "code",
   "execution_count": 7,
   "id": "d4d791a8-cc06-4ffa-a778-cbd4d2caf76e",
   "metadata": {},
   "outputs": [
    {
     "data": {
      "text/html": [
       "<div>\n",
       "<style scoped>\n",
       "    .dataframe tbody tr th:only-of-type {\n",
       "        vertical-align: middle;\n",
       "    }\n",
       "\n",
       "    .dataframe tbody tr th {\n",
       "        vertical-align: top;\n",
       "    }\n",
       "\n",
       "    .dataframe thead th {\n",
       "        text-align: right;\n",
       "    }\n",
       "</style>\n",
       "<table border=\"1\" class=\"dataframe\">\n",
       "  <thead>\n",
       "    <tr style=\"text-align: right;\">\n",
       "      <th></th>\n",
       "      <th>Review</th>\n",
       "      <th>Recommend</th>\n",
       "    </tr>\n",
       "  </thead>\n",
       "  <tbody>\n",
       "    <tr>\n",
       "      <th>0</th>\n",
       "      <td>Absolutely wonderful - silky and sexy and comf...</td>\n",
       "      <td>1</td>\n",
       "    </tr>\n",
       "    <tr>\n",
       "      <th>1</th>\n",
       "      <td>Love this dress!  it's sooo pretty.  i happene...</td>\n",
       "      <td>1</td>\n",
       "    </tr>\n",
       "    <tr>\n",
       "      <th>2</th>\n",
       "      <td>I had such high hopes for this dress and reall...</td>\n",
       "      <td>0</td>\n",
       "    </tr>\n",
       "    <tr>\n",
       "      <th>3</th>\n",
       "      <td>I love, love, love this jumpsuit. it's fun, fl...</td>\n",
       "      <td>1</td>\n",
       "    </tr>\n",
       "    <tr>\n",
       "      <th>4</th>\n",
       "      <td>This shirt is very flattering to all due to th...</td>\n",
       "      <td>1</td>\n",
       "    </tr>\n",
       "  </tbody>\n",
       "</table>\n",
       "</div>"
      ],
      "text/plain": [
       "                                              Review  Recommend\n",
       "0  Absolutely wonderful - silky and sexy and comf...          1\n",
       "1  Love this dress!  it's sooo pretty.  i happene...          1\n",
       "2  I had such high hopes for this dress and reall...          0\n",
       "3  I love, love, love this jumpsuit. it's fun, fl...          1\n",
       "4  This shirt is very flattering to all due to th...          1"
      ]
     },
     "execution_count": 7,
     "metadata": {},
     "output_type": "execute_result"
    }
   ],
   "source": [
    "input_data.head()"
   ]
  },
  {
   "cell_type": "code",
   "execution_count": 8,
   "id": "f9d38072-ec22-4bab-b2d4-f89b665dd1a3",
   "metadata": {},
   "outputs": [
    {
     "name": "stdout",
     "output_type": "stream",
     "text": [
      "<class 'pandas.core.frame.DataFrame'>\n",
      "RangeIndex: 23486 entries, 0 to 23485\n",
      "Data columns (total 2 columns):\n",
      " #   Column     Non-Null Count  Dtype \n",
      "---  ------     --------------  ----- \n",
      " 0   Review     22641 non-null  object\n",
      " 1   Recommend  23486 non-null  int64 \n",
      "dtypes: int64(1), object(1)\n",
      "memory usage: 367.1+ KB\n"
     ]
    }
   ],
   "source": [
    "input_data.info()"
   ]
  },
  {
   "cell_type": "code",
   "execution_count": 9,
   "id": "dba51798-8d2d-4173-8648-9f1d84c58d18",
   "metadata": {},
   "outputs": [
    {
     "data": {
      "text/plain": [
       "(23486, 2)"
      ]
     },
     "execution_count": 9,
     "metadata": {},
     "output_type": "execute_result"
    }
   ],
   "source": [
    "input_data.shape"
   ]
  },
  {
   "cell_type": "code",
   "execution_count": 12,
   "id": "64d3828c-d70c-49cd-b474-2486956f27e7",
   "metadata": {},
   "outputs": [
    {
     "data": {
      "text/plain": [
       "Recommend\n",
       "1    19314\n",
       "0     4172\n",
       "Name: count, dtype: int64"
      ]
     },
     "execution_count": 12,
     "metadata": {},
     "output_type": "execute_result"
    }
   ],
   "source": [
    "input_data['Recommend'].value_counts() "
   ]
  },
  {
   "cell_type": "code",
   "execution_count": 14,
   "id": "43606a67-6a98-4b68-a4f5-cc60d72653e4",
   "metadata": {},
   "outputs": [],
   "source": [
    "#As we can see there are around 23K+ reviews in the dataset. Each review has a corresponding recommendation value and there are more recommended products compared to non-recommended"
   ]
  },
  {
   "cell_type": "code",
   "execution_count": 16,
   "id": "d12cba38-6942-45af-809c-896444459152",
   "metadata": {},
   "outputs": [
    {
     "data": {
      "image/png": "[encoded data removed]",
      "text/plain": [
       "<Figure size 1000x500 with 1 Axes>"
      ]
     },
     "metadata": {},
     "output_type": "display_data"
    }
   ],
   "source": [
    "label_dist = input_data['Recommend'].value_counts().to_dict() \n",
    "flag = plt.figure(figsize = (10, 5)) \n",
    "ax = plt.bar(label_dist.keys(), label_dist.values(), width=0.25) \n",
    "plt.xticks([0,1]) \n",
    "plt.xlabel('Recommendation') \n",
    "plt.ylabel('Review count') \n",
    "plt.show() "
   ]
  },
  {
   "cell_type": "code",
   "execution_count": 18,
   "id": "be7b5e7a-87c9-4143-a72e-2b7118c67f77",
   "metadata": {},
   "outputs": [
    {
     "name": "stdout",
     "output_type": "stream",
     "text": [
      "Review       845\n",
      "Recommend      0\n",
      "dtype: int64\n"
     ]
    }
   ],
   "source": [
    "print(input_data.isnull().sum())"
   ]
  },
  {
   "cell_type": "code",
   "execution_count": 25,
   "id": "f289b2fa-2ecc-4997-81b9-6fa0110f21c6",
   "metadata": {},
   "outputs": [],
   "source": [
    "input_data['Review'].fillna(\"No review provided\", inplace=True)"
   ]
  },
  {
   "cell_type": "code",
   "execution_count": 26,
   "id": "c9db4ed6-4edc-46a7-9625-3287997fd22c",
   "metadata": {},
   "outputs": [
    {
     "data": {
      "text/plain": [
       "Review       0\n",
       "Recommend    0\n",
       "dtype: int64"
      ]
     },
     "execution_count": 26,
     "metadata": {},
     "output_type": "execute_result"
    }
   ],
   "source": [
    "input_data.isnull().sum()"
   ]
  },
  {
   "cell_type": "code",
   "execution_count": 27,
   "id": "488b16d1-b8fe-4589-9f44-173be063693e",
   "metadata": {},
   "outputs": [
    {
     "data": {
      "text/plain": [
       "Review       object\n",
       "Recommend     int64\n",
       "dtype: object"
      ]
     },
     "execution_count": 27,
     "metadata": {},
     "output_type": "execute_result"
    }
   ],
   "source": [
    "input_data.dtypes"
   ]
  },
  {
   "cell_type": "code",
   "execution_count": 28,
   "id": "61560a0e-5337-4632-aff7-140817a1bb6e",
   "metadata": {},
   "outputs": [
    {
     "data": {
      "text/plain": [
       "851"
      ]
     },
     "execution_count": 28,
     "metadata": {},
     "output_type": "execute_result"
    }
   ],
   "source": [
    "len(input_data['Review'])-len(input_data['Review'].drop_duplicates())"
   ]
  },
  {
   "cell_type": "code",
   "execution_count": 29,
   "id": "bddc2b5b-7bba-4ff9-aa44-165598c758d3",
   "metadata": {},
   "outputs": [
    {
     "data": {
      "text/plain": [
       "(23486, 2)"
      ]
     },
     "execution_count": 29,
     "metadata": {},
     "output_type": "execute_result"
    }
   ],
   "source": [
    "iput_data = input_data.drop_duplicates(subset='Review', keep='last')\n",
    "input_data.shape"
   ]
  },
  {
   "cell_type": "code",
   "execution_count": 30,
   "id": "e99b3d41-a618-41a4-83fb-a9ed5805f9aa",
   "metadata": {},
   "outputs": [],
   "source": [
    "input_data['length'] = input_data['Review'].apply(lambda x:len(x.split(' '))) "
   ]
  },
  {
   "cell_type": "code",
   "execution_count": 31,
   "id": "e66f9b07-8e9b-4172-901a-c262dd7643af",
   "metadata": {},
   "outputs": [
    {
     "data": {
      "text/html": [
       "<div>\n",
       "<style scoped>\n",
       "    .dataframe tbody tr th:only-of-type {\n",
       "        vertical-align: middle;\n",
       "    }\n",
       "\n",
       "    .dataframe tbody tr th {\n",
       "        vertical-align: top;\n",
       "    }\n",
       "\n",
       "    .dataframe thead th {\n",
       "        text-align: right;\n",
       "    }\n",
       "</style>\n",
       "<table border=\"1\" class=\"dataframe\">\n",
       "  <thead>\n",
       "    <tr style=\"text-align: right;\">\n",
       "      <th></th>\n",
       "      <th>Review</th>\n",
       "      <th>Recommend</th>\n",
       "      <th>length</th>\n",
       "    </tr>\n",
       "  </thead>\n",
       "  <tbody>\n",
       "    <tr>\n",
       "      <th>3315</th>\n",
       "      <td>I bought this online with the intention of it ...</td>\n",
       "      <td>0</td>\n",
       "      <td>94</td>\n",
       "    </tr>\n",
       "    <tr>\n",
       "      <th>5641</th>\n",
       "      <td>This dress is perfect for wearing in autumn (a...</td>\n",
       "      <td>1</td>\n",
       "      <td>95</td>\n",
       "    </tr>\n",
       "    <tr>\n",
       "      <th>5165</th>\n",
       "      <td>No review provided</td>\n",
       "      <td>0</td>\n",
       "      <td>3</td>\n",
       "    </tr>\n",
       "    <tr>\n",
       "      <th>11143</th>\n",
       "      <td>Beautiful and stylish. looks amazing with my n...</td>\n",
       "      <td>1</td>\n",
       "      <td>42</td>\n",
       "    </tr>\n",
       "    <tr>\n",
       "      <th>13684</th>\n",
       "      <td>I had high hopes for this top but it didn't wo...</td>\n",
       "      <td>0</td>\n",
       "      <td>39</td>\n",
       "    </tr>\n",
       "    <tr>\n",
       "      <th>11159</th>\n",
       "      <td>Highly recommend these jeans! they are ultra-s...</td>\n",
       "      <td>1</td>\n",
       "      <td>59</td>\n",
       "    </tr>\n",
       "    <tr>\n",
       "      <th>11604</th>\n",
       "      <td>I read the previous reviews, but decided to tr...</td>\n",
       "      <td>1</td>\n",
       "      <td>33</td>\n",
       "    </tr>\n",
       "    <tr>\n",
       "      <th>4324</th>\n",
       "      <td>I originally bought this dress in navy and i a...</td>\n",
       "      <td>1</td>\n",
       "      <td>100</td>\n",
       "    </tr>\n",
       "    <tr>\n",
       "      <th>784</th>\n",
       "      <td>I loved this in the store, but had to order my...</td>\n",
       "      <td>1</td>\n",
       "      <td>79</td>\n",
       "    </tr>\n",
       "    <tr>\n",
       "      <th>1197</th>\n",
       "      <td>This is one of those dresses that is just \"nic...</td>\n",
       "      <td>1</td>\n",
       "      <td>85</td>\n",
       "    </tr>\n",
       "  </tbody>\n",
       "</table>\n",
       "</div>"
      ],
      "text/plain": [
       "                                                  Review  Recommend  length\n",
       "3315   I bought this online with the intention of it ...          0      94\n",
       "5641   This dress is perfect for wearing in autumn (a...          1      95\n",
       "5165                                  No review provided          0       3\n",
       "11143  Beautiful and stylish. looks amazing with my n...          1      42\n",
       "13684  I had high hopes for this top but it didn't wo...          0      39\n",
       "11159  Highly recommend these jeans! they are ultra-s...          1      59\n",
       "11604  I read the previous reviews, but decided to tr...          1      33\n",
       "4324   I originally bought this dress in navy and i a...          1     100\n",
       "784    I loved this in the store, but had to order my...          1      79\n",
       "1197   This is one of those dresses that is just \"nic...          1      85"
      ]
     },
     "execution_count": 31,
     "metadata": {},
     "output_type": "execute_result"
    }
   ],
   "source": [
    "input_data.sample(10) "
   ]
  },
  {
   "cell_type": "code",
   "execution_count": 33,
   "id": "9e40583c-5faf-475e-a1c2-d60b0840e234",
   "metadata": {},
   "outputs": [
    {
     "name": "stdout",
     "output_type": "stream",
     "text": [
      "58\n",
      "61\n"
     ]
    }
   ],
   "source": [
    "print(round(input_data[input_data['Recommend']== 1 ]['length'].mean()))\n",
    "print(round(input_data[input_data['Recommend']== 0]['length'].mean()))"
   ]
  },
  {
   "cell_type": "code",
   "execution_count": 34,
   "id": "fc8cf76a-116a-4335-a0d1-d53f11490e10",
   "metadata": {},
   "outputs": [],
   "source": [
    "#revmoving the stopwords\n",
    "\n",
    "input_data['Review_new']=input_data['Review'].apply(lambda x: ' '.join([word for word in x.split() if word not in (STOPWORDS)]))"
   ]
  },
  {
   "cell_type": "code",
   "execution_count": 35,
   "id": "e1e98d82-3c02-42e2-846e-443aa7f18fde",
   "metadata": {},
   "outputs": [],
   "source": [
    "def text_clean(review):\n",
    "    review = review.lower()\n",
    "     #remove punctuation \n",
    "    review = re.sub('[()!?]', ' ', review)\n",
    "    review = re.sub('\\[.*?\\]',' ', review)\n",
    "    #remove non alphanumeric occurences\n",
    "    review = re.sub(\"[^a-z0-9]\",\" \", review)\n",
    "    #remove the @mention\n",
    "    review = re.sub(\"@[A-Za-z0-9_]+\",\"\", review)\n",
    "    #remove the hastags\n",
    "    review = re.sub(\"#[A-Za-z0-9_]+\",\"\", review)\n",
    "    #remove any links \n",
    "    review = re.sub(r\"http\\S+\", \"\", review)\n",
    "    review = re.sub(r\"www.\\S+\", \"\", review)\n",
    "    return review"
   ]
  },
  {
   "cell_type": "code",
   "execution_count": 39,
   "id": "de091de4-4438-477b-a4cb-b46aea7b067f",
   "metadata": {},
   "outputs": [],
   "source": [
    "input_data['clean_review'] = input_data['Review_new'].apply(text_clean)"
   ]
  },
  {
   "cell_type": "code",
   "execution_count": 40,
   "id": "1e35da56-6711-4e20-b6a7-9ebf7417de3e",
   "metadata": {},
   "outputs": [
    {
     "data": {
      "text/html": [
       "<div>\n",
       "<style scoped>\n",
       "    .dataframe tbody tr th:only-of-type {\n",
       "        vertical-align: middle;\n",
       "    }\n",
       "\n",
       "    .dataframe tbody tr th {\n",
       "        vertical-align: top;\n",
       "    }\n",
       "\n",
       "    .dataframe thead th {\n",
       "        text-align: right;\n",
       "    }\n",
       "</style>\n",
       "<table border=\"1\" class=\"dataframe\">\n",
       "  <thead>\n",
       "    <tr style=\"text-align: right;\">\n",
       "      <th></th>\n",
       "      <th>Review</th>\n",
       "      <th>clean_review</th>\n",
       "    </tr>\n",
       "  </thead>\n",
       "  <tbody>\n",
       "    <tr>\n",
       "      <th>9035</th>\n",
       "      <td>Lovely top, flattering and dressy, would defin...</td>\n",
       "      <td>lovely top  flattering dressy  would definitel...</td>\n",
       "    </tr>\n",
       "    <tr>\n",
       "      <th>12063</th>\n",
       "      <td>I love  this dress. it is beautiful , feminine...</td>\n",
       "      <td>i love dress  beautiful   feminine  fits perfe...</td>\n",
       "    </tr>\n",
       "    <tr>\n",
       "      <th>20833</th>\n",
       "      <td>You can't exactly tell from the picture, but t...</td>\n",
       "      <td>you can t exactly tell picture  dress skirt bu...</td>\n",
       "    </tr>\n",
       "    <tr>\n",
       "      <th>14004</th>\n",
       "      <td>Purchased for myself and loved the fabric and ...</td>\n",
       "      <td>purchased loved fabric unique design  runs lar...</td>\n",
       "    </tr>\n",
       "    <tr>\n",
       "      <th>7433</th>\n",
       "      <td>I ordered this in xl and the fit on me matches...</td>\n",
       "      <td>i ordered xl fit matches fit model  meant loos...</td>\n",
       "    </tr>\n",
       "    <tr>\n",
       "      <th>3662</th>\n",
       "      <td>Such an amazing shirt to dress down for a long...</td>\n",
       "      <td>such amazing shirt dress long day school</td>\n",
       "    </tr>\n",
       "    <tr>\n",
       "      <th>7328</th>\n",
       "      <td>I love the idea of this top. it's made really ...</td>\n",
       "      <td>i love idea top  made really well  issue bit s...</td>\n",
       "    </tr>\n",
       "    <tr>\n",
       "      <th>22723</th>\n",
       "      <td>Saw this in the store and loved it! the photos...</td>\n",
       "      <td>saw store loved it  photos line justice  mater...</td>\n",
       "    </tr>\n",
       "    <tr>\n",
       "      <th>571</th>\n",
       "      <td>No review provided</td>\n",
       "      <td>no review provided</td>\n",
       "    </tr>\n",
       "    <tr>\n",
       "      <th>11722</th>\n",
       "      <td>The fit is so bad and the construction is very...</td>\n",
       "      <td>the fit bad construction poor  i m 5 1    100 ...</td>\n",
       "    </tr>\n",
       "  </tbody>\n",
       "</table>\n",
       "</div>"
      ],
      "text/plain": [
       "                                                  Review  \\\n",
       "9035   Lovely top, flattering and dressy, would defin...   \n",
       "12063  I love  this dress. it is beautiful , feminine...   \n",
       "20833  You can't exactly tell from the picture, but t...   \n",
       "14004  Purchased for myself and loved the fabric and ...   \n",
       "7433   I ordered this in xl and the fit on me matches...   \n",
       "3662   Such an amazing shirt to dress down for a long...   \n",
       "7328   I love the idea of this top. it's made really ...   \n",
       "22723  Saw this in the store and loved it! the photos...   \n",
       "571                                   No review provided   \n",
       "11722  The fit is so bad and the construction is very...   \n",
       "\n",
       "                                            clean_review  \n",
       "9035   lovely top  flattering dressy  would definitel...  \n",
       "12063  i love dress  beautiful   feminine  fits perfe...  \n",
       "20833  you can t exactly tell picture  dress skirt bu...  \n",
       "14004  purchased loved fabric unique design  runs lar...  \n",
       "7433   i ordered xl fit matches fit model  meant loos...  \n",
       "3662            such amazing shirt dress long day school  \n",
       "7328   i love idea top  made really well  issue bit s...  \n",
       "22723  saw store loved it  photos line justice  mater...  \n",
       "571                                   no review provided  \n",
       "11722  the fit bad construction poor  i m 5 1    100 ...  "
      ]
     },
     "execution_count": 40,
     "metadata": {},
     "output_type": "execute_result"
    }
   ],
   "source": [
    "input_data[['Review','clean_review']].sample(10)"
   ]
  },
  {
   "cell_type": "code",
   "execution_count": 41,
   "id": "0e2a2595-5be2-4b3c-a520-1ee6d46d201c",
   "metadata": {},
   "outputs": [],
   "source": [
    "input_data['new_length']=input_data['clean_review'].apply(lambda x:len(x.split(\" \")))"
   ]
  },
  {
   "cell_type": "code",
   "execution_count": 43,
   "id": "2a567cb7-978f-4c7b-bb15-cb53ef34d6e6",
   "metadata": {},
   "outputs": [
    {
     "name": "stdout",
     "output_type": "stream",
     "text": [
      "39\n",
      "40\n"
     ]
    }
   ],
   "source": [
    "print(round(input_data[input_data['Recommend']==1]['new_length'].mean())) \n",
    "print(round(input_data[input_data['Recommend']==0]['new_length'].mean())) "
   ]
  },
  {
   "cell_type": "code",
   "execution_count": 44,
   "id": "14e49166-cb7a-4fff-a5fc-554ec5252ea1",
   "metadata": {},
   "outputs": [],
   "source": [
    "X_train, X_test, y_train, y_test = train_test_split(input_data['clean_review'],\n",
    "                                                    input_data['Recommend'], test_size=0.3,\n",
    "                                                    stratify=input_data['Recommend']) "
   ]
  },
  {
   "cell_type": "code",
   "execution_count": 47,
   "id": "926c0c08-0ef4-4b4c-8987-7e7ee604f846",
   "metadata": {},
   "outputs": [
    {
     "name": "stdout",
     "output_type": "stream",
     "text": [
      "16440 7046\n"
     ]
    }
   ],
   "source": [
    "print(X_train.shape[0], X_test.shape[0]) "
   ]
  },
  {
   "cell_type": "code",
   "execution_count": 49,
   "id": "2c8159d4-879c-481e-b9ab-d46012f0f994",
   "metadata": {},
   "outputs": [
    {
     "name": "stdout",
     "output_type": "stream",
     "text": [
      "Recommend\n",
      "1    13520\n",
      "0     2920\n",
      "Name: count, dtype: int64\n"
     ]
    }
   ],
   "source": [
    "print(y_train.value_counts()) "
   ]
  },
  {
   "cell_type": "code",
   "execution_count": 50,
   "id": "0be08605-e59e-4ad9-b6fa-c280ca0fec83",
   "metadata": {},
   "outputs": [
    {
     "name": "stdout",
     "output_type": "stream",
     "text": [
      "Recommend\n",
      "1    5794\n",
      "0    1252\n",
      "Name: count, dtype: int64\n"
     ]
    }
   ],
   "source": [
    "print(y_test.value_counts()) "
   ]
  },
  {
   "cell_type": "code",
   "execution_count": 51,
   "id": "677fbd62-66ba-4539-bf90-912b12465ece",
   "metadata": {},
   "outputs": [],
   "source": [
    "#Ml modeling adn performance evalution"
   ]
  },
  {
   "cell_type": "code",
   "execution_count": 58,
   "id": "46269592-4b70-4cb7-b423-5adb240e01ef",
   "metadata": {},
   "outputs": [],
   "source": [
    "modelclasses = [\n",
    "    [\"Logistic Regression\", LogisticRegression],\n",
    "    [\"MNB\", MultinomialNB],\n",
    "    [\"Random Forest\", RandomForestClassifier]]"
   ]
  },
  {
   "cell_type": "code",
   "execution_count": 60,
   "id": "a8492b5e-15eb-4229-851a-0067935220c7",
   "metadata": {},
   "outputs": [],
   "source": [
    "vectorizer = CountVectorizer(token_pattern=r'\\b\\w+\\b')\n",
    "X_train_vec = vectorizer.fit_transform(X_train)\n",
    "X_test_vec = vectorizer.transform(X_test)\n",
    "\n",
    "# Create an empty list to store results\n",
    "results = []\n",
    "\n",
    "for modelname, Model in modelclasses:\n",
    "  model = Model()\n",
    "  model.fit(X_train_vec, y_train)\n",
    "  score = np.round(model.score(X_test_vec, y_test), 2)\n",
    "  auc = np.round(roc_auc_score(y_test, model.predict_proba(X_test_vec)[:, 1]), 2)\n",
    "  # Append results to the list\n",
    "  results.append({'modelname': modelname, 'score': score, 'auc': auc})\n",
    "\n",
    "# Convert the list to a DataFrame\n",
    "results_df = pd.DataFrame(results)"
   ]
  },
  {
   "cell_type": "code",
   "execution_count": 61,
   "id": "f2e290b2-ceeb-412f-bb54-f9aff0d4405e",
   "metadata": {},
   "outputs": [
    {
     "name": "stdout",
     "output_type": "stream",
     "text": [
      "             modelname  score   auc\n",
      "0  Logistic Regression   0.89  0.91\n",
      "1                  MNB   0.89  0.92\n",
      "2        Random Forest   0.85  0.90\n"
     ]
    }
   ],
   "source": [
    "print(results_df)"
   ]
  },
  {
   "cell_type": "code",
   "execution_count": 62,
   "id": "ad4ee911-d0e2-43fd-9a34-02bbd07bc663",
   "metadata": {},
   "outputs": [],
   "source": [
    "#use the tf-idf vectorizer to convert the text data to numerical from "
   ]
  },
  {
   "cell_type": "code",
   "execution_count": 65,
   "id": "ccdcde9b-926a-43ec-b9de-20d7e6d17202",
   "metadata": {},
   "outputs": [
    {
     "name": "stdout",
     "output_type": "stream",
     "text": [
      "             modelname  score   auc\n",
      "0  Logistic Regression   0.88  0.93\n",
      "1                  MNB   0.83  0.90\n",
      "2        Random Forest   0.85  0.90\n"
     ]
    }
   ],
   "source": [
    "vectorizer = TfidfVectorizer(token_pattern=r'\\b\\w+\\b')\n",
    "X_train_vec = vectorizer.fit_transform(X_train)\n",
    "X_test_vec = vectorizer.transform(X_test)\n",
    "\n",
    "# Create an empty DataFrame to store results\n",
    "results = pd.DataFrame(columns=['modelname', 'score', 'auc'])\n",
    "\n",
    "for modelname, Model in modelclasses:\n",
    "  model = Model()\n",
    "  model.fit(X_train_vec, y_train)\n",
    "  score = np.round(model.score(X_test_vec, y_test), 2)\n",
    "  auc = np.round(roc_auc_score(y_test, model.predict_proba(X_test_vec)[:, 1]), 2)\n",
    "  # Create a temporary DataFrame for each iteration\n",
    "  temp_df = pd.DataFrame({'modelname': [modelname], 'score': [score], 'auc': [auc]})\n",
    "  # Concatenate the temporary DataFrame to the results DataFrame\n",
    "  results = pd.concat([results, temp_df], ignore_index=True)\n",
    "\n",
    "# Print or use the results DataFrame\n",
    "print(results)"
   ]
  },
  {
   "cell_type": "code",
   "execution_count": 66,
   "id": "0f19d547-6fba-4dbf-a40d-ab4104c29357",
   "metadata": {},
   "outputs": [],
   "source": [
    "#Tapic Modeling"
   ]
  },
  {
   "cell_type": "code",
   "execution_count": 69,
   "id": "73871c08-4e71-43d9-8a3d-05c222c6d408",
   "metadata": {},
   "outputs": [],
   "source": [
    "def topic_clean(review):\n",
    "    review = re.sub('[^a-zA-Z]', ' ', review)\n",
    "    review = re.sub(r's+', ' ', review)\n",
    "    return review"
   ]
  },
  {
   "cell_type": "code",
   "execution_count": 70,
   "id": "94c10059-1295-4cfa-a361-ba33d31e226f",
   "metadata": {},
   "outputs": [],
   "source": [
    "input_data['clean_review'] = input_data['clean_review'].apply(topic_clean)"
   ]
  },
  {
   "cell_type": "code",
   "execution_count": 73,
   "id": "ca6363e4-8b09-4dd6-ae5c-43cdb36eafb9",
   "metadata": {},
   "outputs": [],
   "source": [
    "review_terms = pd.Series(input_data['clean_review']).apply(lambda x: x.split())"
   ]
  },
  {
   "cell_type": "code",
   "execution_count": 74,
   "id": "7e1a3cc6-c61b-4e07-b90a-a1520f828695",
   "metadata": {},
   "outputs": [],
   "source": [
    "dictionary = corpora.Dictionary(review_terms) "
   ]
  },
  {
   "cell_type": "code",
   "execution_count": 75,
   "id": "4598169e-3a8c-4f5a-8a5c-b34179986bbc",
   "metadata": {},
   "outputs": [],
   "source": [
    "doc_term_matrix = [dictionary.doc2bow(rev) for rev in review_terms]"
   ]
  },
  {
   "cell_type": "code",
   "execution_count": 76,
   "id": "16506c51-e2e5-49f7-ad0e-f23ea924c576",
   "metadata": {},
   "outputs": [],
   "source": [
    "LDA = gensim.models.ldamodel.LdaModel\n",
    "lda_model = LDA(corpus=doc_term_matrix,\n",
    "                id2word=dictionary,\n",
    "                num_topics=10, \n",
    "                chunksize=500,\n",
    "                passes=10)"
   ]
  },
  {
   "cell_type": "code",
   "execution_count": 77,
   "id": "e44b4918-f88e-44e5-bb81-d4ccb46f0a56",
   "metadata": {},
   "outputs": [
    {
     "data": {
      "text/plain": [
       "[(0,\n",
       "  '0.054*\"ize\" + 0.046*\"i\" + 0.031*\"fit\" + 0.031*\"mall\" + 0.029*\"m\" + 0.021*\"u\" + 0.018*\"ordered\" + 0.017*\"t\" + 0.016*\"large\" + 0.016*\"run\"'),\n",
       " (1,\n",
       "  '0.029*\"t\" + 0.023*\"dre\" + 0.019*\"like\" + 0.018*\"top\" + 0.018*\"look\" + 0.017*\"i\" + 0.016*\"fabric\" + 0.011*\"o\" + 0.011*\"would\" + 0.011*\"back\"'),\n",
       " (2,\n",
       "  '0.041*\"i\" + 0.025*\"it\" + 0.025*\"tore\" + 0.018*\"online\" + 0.016*\"tried\" + 0.015*\"one\" + 0.015*\"aw\" + 0.014*\"price\" + 0.014*\"ale\" + 0.012*\"on\"'),\n",
       " (3,\n",
       "  '0.040*\"e\" + 0.029*\"love\" + 0.025*\"jean\" + 0.023*\"top\" + 0.023*\"great\" + 0.023*\"pant\" + 0.022*\"hirt\" + 0.020*\"color\" + 0.019*\"fit\" + 0.017*\"i\"'),\n",
       " (4,\n",
       "  '0.051*\"weater\" + 0.050*\"h\" + 0.036*\"color\" + 0.033*\"wa\" + 0.023*\"wi\" + 0.021*\"leeve\" + 0.016*\"oft\" + 0.014*\"hed\" + 0.013*\"grey\" + 0.012*\"like\"'),\n",
       " (5,\n",
       "  '0.118*\"on\" + 0.067*\"per\" + 0.024*\"color\" + 0.019*\"much\" + 0.015*\"online\" + 0.014*\"blue\" + 0.013*\"rea\" + 0.013*\"better\" + 0.012*\"ub\" + 0.012*\"even\"'),\n",
       " (6,\n",
       "  '0.223*\"review\" + 0.098*\"no\" + 0.088*\"provided\" + 0.051*\"cardigan\" + 0.035*\"orange\" + 0.027*\"tran\" + 0.026*\"read\" + 0.025*\"purple\" + 0.021*\"he\" + 0.020*\"weat\"'),\n",
       " (7,\n",
       "  '0.062*\"ab\" + 0.058*\"olutely\" + 0.047*\"t\" + 0.042*\"wait\" + 0.041*\"tic\" + 0.034*\"can\" + 0.034*\"ju\" + 0.033*\"gray\" + 0.029*\"ela\" + 0.022*\"con\"'),\n",
       " (8,\n",
       "  '0.086*\"t\" + 0.037*\"compliment\" + 0.035*\"wore\" + 0.030*\"time\" + 0.028*\"ve\" + 0.028*\"many\" + 0.025*\"year\" + 0.024*\"fir\" + 0.023*\"i\" + 0.020*\"received\"'),\n",
       " (9,\n",
       "  '0.052*\"dre\" + 0.032*\"love\" + 0.026*\"great\" + 0.021*\"wear\" + 0.019*\"i\" + 0.018*\"thi\" + 0.018*\"perfect\" + 0.016*\"comfortable\" + 0.016*\"ea\" + 0.015*\"ed\"')]"
      ]
     },
     "execution_count": 77,
     "metadata": {},
     "output_type": "execute_result"
    }
   ],
   "source": [
    "lda_model.print_topics()"
   ]
  },
  {
   "cell_type": "code",
   "execution_count": 78,
   "id": "7cc478c0-14ab-4b33-82a9-2627afc16562",
   "metadata": {},
   "outputs": [
    {
     "data": {
      "text/html": [
       "\n",
       "<link rel=\"stylesheet\" type=\"text/css\" href=\"https://cdn.jsdelivr.net/gh/bmabey/pyLDAvis@3.4.0/pyLDAvis/js/ldavis.v1.0.0.css\">\n",
       "\n",
       "\n",
       "<div id=\"ldavis_el932421414762632326194748608\" style=\"background-color:white;\"></div>\n",
       "<script type=\"text/javascript\">\n",
       "\n",
       "var ldavis_el932421414762632326194748608_data = {\"mdsDat\": {\"x\": [-0.18418048908505247, -0.18587480941172677, -0.19000542726651473, -0.19975973966555174, -0.08418870649219394, -0.07368592659282776, 0.10275796596875314, 0.16844855860450794, 0.30700245305460483, 0.3394861208860019], \"y\": [0.002553553840528793, -0.0704055967899244, 0.016205674827817738, 0.03514901963607311, -0.0776963404642136, 0.17515193605396912, -0.2910195698982794, 0.24927053069979213, -0.15625054332499044, 0.11704133541922675], \"topics\": [1, 2, 3, 4, 5, 6, 7, 8, 9, 10], \"cluster\": [1, 1, 1, 1, 1, 1, 1, 1, 1, 1], \"Freq\": [27.421682541553714, 20.82338528515598, 13.605127844755586, 11.832669731998584, 10.064640761453637, 6.298533311300797, 3.7138331638673536, 3.041221281298115, 1.8527358503373625, 1.3461702282788681]}, \"tinfo\": {\"Term\": [\"t\", \"ize\", \"on\", \"review\", \"dre\", \"mall\", \"color\", \"weater\", \"h\", \"i\", \"per\", \"great\", \"e\", \"fit\", \"wear\", \"m\", \"jean\", \"love\", \"tore\", \"pant\", \"no\", \"wa\", \"u\", \"provided\", \"x\", \"much\", \"it\", \"online\", \"petite\", \"medium\", \"zipper\", \"otherwi\", \"bad\", \"adly\", \"unflattering\", \"broad\", \"ive\", \"cup\", \"hide\", \"maternity\", \"motif\", \"adju\", \"hourgla\", \"half\", \"ad\", \"zip\", \"awkward\", \"flatter\", \"weird\", \"bodice\", \"tummy\", \"coverage\", \"middle\", \"pite\", \"covered\", \"trange\", \"pleat\", \"what\", \"expen\", \"pear\", \"part\", \"trap\", \"v\", \"figure\", \"body\", \"front\", \"bra\", \"neck\", \"back\", \"de\", \"fabric\", \"ide\", \"hape\", \"wai\", \"o\", \"cut\", \"me\", \"area\", \"al\", \"model\", \"ign\", \"like\", \"t\", \"way\", \"look\", \"houlder\", \"made\", \"bottom\", \"top\", \"material\", \"however\", \"dre\", \"really\", \"would\", \"arm\", \"high\", \"bu\", \"much\", \"i\", \"thi\", \"kirt\", \"e\", \"flattering\", \"it\", \"fit\", \"work\", \"love\", \"little\", \"beautiful\", \"x\", \"medium\", \"lb\", \"ually\", \"mall\", \"regular\", \"reference\", \"xx\", \"l\", \"typically\", \"ite\", \"exchange\", \"build\", \"together\", \"note\", \"tring\", \"everyone\", \"hoe\", \"glove\", \"bag\", \"ft\", \"beige\", \"falling\", \"flared\", \"exchanged\", \"im\", \"gal\", \"hei\", \"wonderfully\", \"waited\", \"petite\", \"u\", \"ize\", \"normally\", \"run\", \"xl\", \"p\", \"izing\", \"large\", \"ordered\", \"m\", \"big\", \"perfectly\", \"order\", \"c\", \"fit\", \"i\", \"nug\", \"maller\", \"room\", \"leg\", \"wear\", \"length\", \"ual\", \"tight\", \"t\", \"little\", \"e\", \"would\", \"top\", \"retailer\", \"bit\", \"ed\", \"dre\", \"love\", \"perfect\", \"ea\", \"y\", \"boot\", \"cla\", \"pring\", \"ily\", \"atile\", \"jump\", \"bootie\", \"andal\", \"leather\", \"finding\", \"cro\", \"ilky\", \"teal\", \"nag\", \"evening\", \"hug\", \"cooler\", \"plaid\", \"ock\", \"become\", \"wim\", \"bonu\", \"particular\", \"cular\", \"carf\", \"likely\", \"wine\", \"pu\", \"ver\", \"wedding\", \"outfit\", \"ca\", \"forward\", \"fall\", \"piece\", \"ummer\", \"jacket\", \"dre\", \"comfortable\", \"worn\", \"perfect\", \"great\", \"ion\", \"fun\", \"ic\", \"love\", \"ual\", \"heel\", \"thi\", \"ed\", \"wear\", \"flattering\", \"kirt\", \"oft\", \"well\", \"color\", \"work\", \"i\", \"look\", \"fit\", \"purcha\", \"it\", \"beautiful\", \"blou\", \"tank\", \"tee\", \"pant\", \"them\", \"cami\", \"kinny\", \"embroidery\", \"they\", \"ome\", \"rich\", \"flower\", \"awe\", \"tly\", \"ole\", \"frumpy\", \"move\", \"igner\", \"med\", \"tretched\", \"rayon\", \"poor\", \"hone\", \"do\", \"weet\", \"turquoi\", \"pajama\", \"combo\", \"width\", \"hable\", \"jean\", \"white\", \"pair\", \"legging\", \"hirt\", \"the\", \"through\", \"e\", \"underneath\", \"heer\", \"tretch\", \"great\", \"comfy\", \"love\", \"black\", \"navy\", \"top\", \"oft\", \"color\", \"blue\", \"comfortable\", \"bought\", \"cute\", \"fit\", \"uper\", \"wear\", \"nice\", \"look\", \"i\", \"like\", \"fabric\", \"ize\", \"perfect\", \"little\", \"aw\", \"local\", \"fell\", \"ordering\", \"immediately\", \"ter\", \"knew\", \"oon\", \"thinking\", \"linen\", \"gone\", \"whole\", \"nude\", \"believe\", \"cription\", \"hu\", \"picked\", \"pop\", \"taken\", \"call\", \"care\", \"polye\", \"lender\", \"receive\", \"mea\", \"pay\", \"notice\", \"cu\", \"package\", \"when\", \"arrived\", \"tore\", \"appointed\", \"online\", \"price\", \"eye\", \"ale\", \"di\", \"try\", \"tried\", \"loved\", \"worth\", \"it\", \"excited\", \"went\", \"thought\", \"one\", \"i\", \"retailer\", \"on\", \"looked\", \"old\", \"would\", \"ee\", \"ed\", \"fir\", \"get\", \"much\", \"even\", \"could\", \"purcha\", \"ordered\", \"back\", \"dre\", \"m\", \"like\", \"h\", \"wa\", \"wi\", \"hed\", \"grey\", \"tyli\", \"pilcro\", \"intere\", \"ting\", \"coat\", \"hing\", \"itchy\", \"hand\", \"cold\", \"brown\", \"wool\", \"darker\", \"ent\", \"web\", \"hapele\", \"giving\", \"money\", \"machine\", \"lighter\", \"wingy\", \"bell\", \"cuff\", \"twice\", \"hmere\", \"both\", \"weater\", \"pink\", \"taple\", \"dark\", \"leeve\", \"dry\", \"cozy\", \"warm\", \"color\", \"neutral\", \"oft\", \"knit\", \"wardrobe\", \"jacket\", \"in\", \"like\", \"long\", \"look\", \"bit\", \"love\", \"o\", \"i\", \"al\", \"compliment\", \"wore\", \"year\", \"la\", \"night\", \"ever\", \"incredibly\", \"beading\", \"occa\", \"beach\", \"ago\", \"terday\", \"round\", \"everyday\", \"have\", \"ey\", \"jer\", \"plenty\", \"match\", \"worry\", \"head\", \"errand\", \"hemline\", \"ant\", \"unlined\", \"ripped\", \"mell\", \"thru\", \"attention\", \"boyfriend\", \"many\", \"ve\", \"time\", \"received\", \"fir\", \"ye\", \"t\", \"already\", \"everal\", \"worn\", \"day\", \"every\", \"get\", \"be\", \"got\", \"lot\", \"one\", \"i\", \"retailer\", \"it\", \"wear\", \"bought\", \"per\", \"rea\", \"ub\", \"tantial\", \"ton\", \"throw\", \"gold\", \"fabulou\", \"wrap\", \"ta\", \"airy\", \"recently\", \"tan\", \"afraid\", \"muted\", \"originally\", \"k\", \"itive\", \"brighter\", \"cuter\", \"quickly\", \"burgundy\", \"multiple\", \"igned\", \"tyled\", \"her\", \"overly\", \"crop\", \"appreciate\", \"hate\", \"on\", \"te\", \"ri\", \"blue\", \"online\", \"much\", \"better\", \"color\", \"kin\", \"picture\", \"even\", \"yellow\", \"photo\", \"beautiful\", \"vibrant\", \"look\", \"ab\", \"olutely\", \"wait\", \"tic\", \"ju\", \"gray\", \"ela\", \"home\", \"tice\", \"reading\", \"tband\", \"titching\", \"relaxed\", \"idering\", \"daughter\", \"adore\", \"trim\", \"throughout\", \"trip\", \"appoint\", \"change\", \"near\", \"waiting\", \"avoid\", \"water\", \"crotch\", \"hrunk\", \"aying\", \"late\", \"darling\", \"can\", \"con\", \"tunning\", \"t\", \"coral\", \"gorgeou\", \"beautiful\", \"picture\", \"review\", \"no\", \"provided\", \"cardigan\", \"orange\", \"tran\", \"read\", \"purple\", \"weat\", \"hade\", \"blazer\", \"kimono\", \"ition\", \"dot\", \"peach\", \"itant\", \"own\", \"vibe\", \"happened\", \"opted\", \"faux\", \"are\", \"cord\", \"air\", \"dye\", \"cardi\", \"detailed\", \"fre\", \"fur\", \"charming\", \"he\"], \"Freq\": [12136.0, 9524.0, 3783.0, 2295.0, 12530.0, 4971.0, 7085.0, 2901.0, 2390.0, 18703.0, 1562.0, 6089.0, 8506.0, 9894.0, 6513.0, 6308.0, 2624.0, 9285.0, 2196.0, 2057.0, 1011.0, 1570.0, 3596.0, 903.0, 2473.0, 2948.0, 6184.0, 1707.0, 2614.0, 2331.0, 388.14225832238384, 372.63579008012863, 366.1857878963775, 317.5313556581405, 298.85433734616583, 255.30776780166767, 235.3320632839687, 230.20767954401012, 228.63737365235986, 228.23414770327827, 226.6634752203657, 223.68738959557277, 221.56147798682323, 220.0910315550158, 219.28558167296953, 210.67674798511686, 205.55353733719758, 195.46914937928315, 195.1829515808275, 176.6091531485999, 167.77325283289602, 157.6154244254398, 156.27498347494273, 156.2565317147417, 155.0732606580893, 149.26905786166506, 146.52794501627963, 146.50513082005756, 140.98901987694404, 140.4520980945119, 525.1036133189994, 386.4336253277696, 248.5697470828583, 561.6204532575896, 989.8764716657229, 1127.6245559505912, 697.3930016694924, 654.3140314997307, 2316.8906017120025, 1672.0675202348204, 3320.4839408352395, 1382.038109905908, 868.1976954077844, 2054.4945474601336, 2389.3605131066442, 1353.347700143812, 1960.4592940769123, 611.1389655404189, 1756.0405766512035, 1096.1241997237641, 1139.8588305858077, 4036.845889658562, 6088.4407491129605, 1424.857631219651, 3718.1789564669907, 1104.2533365252252, 1168.1145119896842, 1023.2947356190864, 3773.6376646848385, 1693.4336320920643, 1054.2291726946357, 4820.974628375753, 1906.8235708880902, 2340.121343365666, 959.6313239209146, 851.2124957711944, 964.2977862954607, 1391.0460881601223, 3652.4545198134915, 1780.7019040467567, 1284.8847778823072, 1978.751513760589, 1419.390826801313, 1710.5230414048094, 1727.7389491424558, 1228.0276461959797, 1373.622738646865, 1245.4909785962423, 1211.260641678694, 2472.7107837095778, 2330.292183830029, 2111.166819127418, 1950.790502076484, 4967.595826422568, 1151.15905061531, 572.228933483913, 541.2851954060268, 481.224899749948, 479.8110591256193, 202.96734256237534, 198.00230887899488, 187.72593574381125, 172.9142561528906, 154.19145563192203, 148.4685950595935, 133.32914986437956, 132.26476999135835, 127.78225382277448, 127.0237773785266, 125.51076821863697, 113.37269535925456, 100.81166920606978, 96.1809523561494, 80.17146495426141, 74.87679123557959, 74.63258164124778, 74.43665720409678, 72.32377444545443, 66.43848329104246, 2492.312952195454, 3355.416497804415, 8597.553144547663, 859.3314480717995, 2500.313097972811, 380.3795835793472, 825.1898564592452, 679.7785511674371, 2538.9968998860036, 2947.527245106313, 4555.269999674303, 1385.3789669625555, 1120.3237325963264, 670.0318810999019, 533.1062920101567, 5021.138187260606, 7383.385670916305, 412.00019539709996, 469.7387577069188, 437.3380485327953, 486.4011502581098, 2383.2096353521865, 1352.2849039026726, 1040.6918161121866, 869.799235874481, 2755.3821062769284, 1327.3510370460247, 1869.4685540545283, 1440.4796666410496, 1705.132844835408, 959.3754357070867, 1033.7763163332052, 1103.5919304216682, 1530.812097312438, 1304.3607881162454, 995.6089665595446, 1680.6620996183287, 1435.0220344008915, 655.4814609947065, 534.5895271607603, 528.293923078949, 520.5170203610517, 504.49934209347265, 426.06549842503165, 280.7560485663972, 261.7912209037816, 180.12982583186056, 141.67375438578324, 139.57450428780297, 139.16889444631357, 137.68494032742328, 131.7503121501033, 131.6127848169242, 130.67114333922893, 120.61455107307468, 113.18944526203012, 108.8388671421821, 107.75837665265172, 96.49444912246646, 94.81217045222043, 93.55124051241341, 93.37532993349477, 91.61656365809148, 85.06814306272139, 80.8850725556579, 80.49328577534148, 851.8981873987286, 300.4999876084951, 258.3375896971695, 1144.6739211767062, 174.3575822468465, 1080.9699799961804, 948.0240458075663, 1023.6551061917828, 817.4001918881397, 5465.796310214307, 1697.9507234823193, 784.6881843830712, 1823.5217392723405, 2727.672746971946, 456.54525130755275, 497.42654245995567, 395.07773591891066, 3305.277651922344, 1053.1379011009321, 309.57480301758335, 1920.1233049934053, 1537.288436096558, 2226.1391062766634, 1351.5454895145722, 1098.6657293881922, 1130.1293447124476, 1125.9602124587334, 1444.0204107067916, 880.3054996466497, 1953.7161567579926, 1298.5772651705313, 1426.9656633374545, 837.6099923427522, 1102.6088424662355, 849.3171066149313, 1037.177993318313, 807.7862771184559, 701.760584487972, 2054.4036721723787, 616.1312266477674, 594.9661031018411, 561.6583777195383, 512.1164069929589, 492.91803279920146, 256.618818177552, 215.70276274732126, 207.55054365572084, 202.97484796833962, 186.4310412367757, 143.81269345883914, 138.52965938726723, 131.28361972221307, 127.5699482004742, 117.28394484448695, 117.0298754521544, 116.0797411348875, 114.05748924196459, 113.87109224256736, 111.57847769767575, 110.71427055161612, 110.6041513172339, 110.19733657048724, 107.99407658151601, 104.0556529889905, 102.40449722120415, 2291.0476922419653, 1344.6668357968765, 1027.4626126067603, 790.1817950032781, 2037.7239300901933, 1470.8438632125483, 318.94843508931297, 3585.6783389824323, 453.88689131998984, 437.2025512693896, 454.95826014390855, 2079.797112782764, 478.4325340477423, 2654.0541770589016, 844.440522026231, 380.3996713010008, 2124.460681204101, 1171.4959558205296, 1784.0476851487267, 660.2330836249237, 1053.53587761144, 1022.5225384682802, 920.9641307102523, 1717.3644881705918, 708.9302092926225, 1333.4663534704378, 910.7006215437822, 1218.7888028777768, 1574.5588447068553, 1123.5809066153652, 856.0508562895621, 914.0554511589587, 789.4654399608422, 743.4465254369577, 1121.2751205661714, 366.7962844962799, 335.33981410346246, 293.8497648712619, 266.86192393332874, 261.13933482993735, 243.8373037600965, 212.09065213897736, 208.00204796750052, 206.65720373769037, 201.8371455297179, 195.83747147602548, 179.387864583171, 158.66083389424145, 153.9585704278473, 152.92125550966296, 147.89392627719693, 140.30144880686458, 124.4093038242192, 123.31728055019524, 120.16933897124734, 120.09991075773715, 118.78325940584206, 117.46397085824002, 115.0257040260716, 113.46750707554568, 112.06241996693264, 109.12088828734952, 106.37945158951989, 102.69272375159393, 346.1321518219671, 1916.3048053944428, 499.78726534244356, 1357.8671686539674, 1094.4888905490207, 259.45029171009963, 1040.6711533738633, 961.328088651413, 810.5897853432803, 1264.194694746431, 771.83635589022, 414.5760275495129, 1942.804926587547, 293.8396466509984, 541.1623543699482, 519.2362069391525, 1146.5853103521167, 3155.334696980842, 836.3245098177282, 963.149081257134, 534.4797722088967, 349.6935500734377, 938.9306546136633, 566.8935625834536, 704.0365299985957, 451.9972605480923, 518.8433903595609, 584.0289838809767, 507.2054995249935, 472.58066274157926, 508.01492126586004, 562.1365997312731, 540.4897797641348, 712.2769233978759, 613.3350813063041, 473.52592697151533, 2389.412087284349, 1569.3126443001493, 1115.9744198395003, 662.3830475517914, 637.2100851114984, 329.75176515685234, 319.81781240561116, 296.3237450362146, 293.4799523140808, 546.1206978256331, 274.82760097320033, 267.66282588028946, 267.1776146513608, 223.80392072522204, 213.88445088585368, 201.1250055259304, 183.89330434207199, 169.44350107945232, 151.78078170202176, 147.773786615234, 146.61069652121472, 141.2959281735049, 130.47035572288317, 128.75212102159756, 124.96661344289218, 123.35403663589709, 117.53357889549427, 111.45569581685031, 109.31342615546917, 108.70435796236951, 2467.6117279116897, 384.46751013429787, 232.47644553353405, 344.3393581694059, 1027.0534724999584, 236.56493787403076, 242.62930356826013, 391.0292347401275, 1716.774823768849, 181.8363042277248, 750.0331811233455, 273.65906575339943, 234.7364758636234, 335.9483182963454, 360.81242422065355, 571.2785261843721, 397.7043526869766, 465.37327723153675, 381.2733656696043, 362.7898918173986, 306.9316134991424, 320.52994504134045, 269.45830277822995, 1060.9553942580687, 984.9644273511246, 722.3401342138084, 372.9930931567364, 345.66679327200706, 316.60320247868816, 256.87303380592977, 216.76930868500216, 212.77530577524584, 177.3447155212459, 148.22263160019946, 143.96955365120095, 138.46652602007774, 135.0305909751567, 132.39617595275627, 129.0598169181654, 118.73838810109548, 117.9816713253449, 111.69548717739556, 106.01594084427438, 107.04605804727103, 93.61713879055404, 92.75415332089108, 91.30130477447845, 90.84037018976376, 88.22570222485666, 85.53188053334954, 85.36394117647772, 83.67040095611256, 83.09972886819065, 792.2634387186481, 792.9548174261924, 848.6521907799049, 566.759588790855, 689.9931962653511, 229.94397878411044, 2447.585271533819, 248.32686744347083, 206.88912035407412, 446.0699160230305, 429.2456083949247, 283.4807605774216, 476.43253617807704, 278.29197794100475, 427.2495337211559, 294.298546877177, 469.64246114099655, 662.849313382394, 334.29479186888506, 384.2089716621303, 382.9015747909586, 302.05271258308096, 1561.6698549390412, 293.99551369011033, 290.75192551519837, 249.76138515378807, 217.2792736105104, 217.24650943650818, 181.1659006395754, 173.90542690037142, 160.28257774017848, 151.85913845215944, 148.11112077373124, 136.3243880675315, 124.51179746755432, 119.97484840275368, 113.79062682266608, 113.77786592498224, 113.48476642796858, 113.0963450852146, 111.89193101316643, 111.88138185985599, 109.99218354090097, 101.54623650131721, 100.56597838476054, 96.36880312838304, 96.33350195348193, 95.30370726809137, 95.26215032601645, 94.1015157823008, 93.96172052764021, 93.06323190159465, 2742.758523884931, 154.8305519665317, 161.78067677098622, 336.64807152929694, 348.689393359891, 442.8192823530997, 293.9948198095226, 558.804588423472, 171.42261373860765, 262.01371173435916, 275.68803816065486, 139.31352806254355, 171.40130943618732, 177.72589004891302, 131.5422281081552, 174.38073510297107, 884.8081120964025, 829.622713045663, 602.1461703589507, 585.6945338634479, 476.99230739278613, 474.4361347025454, 406.0565337503499, 246.08358926766974, 215.32898930204738, 205.138419768857, 202.58684413137075, 183.79213740262526, 166.99769022887057, 153.46711088103473, 143.28659409826437, 139.67362767136055, 139.2973166316565, 130.53946878710374, 112.6395757350343, 104.17869353544471, 100.94491130621645, 99.46534723520126, 97.68649257300224, 94.1507051136791, 94.13081097158641, 93.58999017188822, 92.04563143489388, 88.15469523044338, 82.73652034753249, 82.71954559813734, 489.30041416589347, 307.9864712856649, 180.86595480533538, 672.8800699778409, 105.3196212634679, 166.5771920010523, 184.5807697286101, 109.98755185287823, 2294.2063332962757, 1011.0246130924663, 902.604036815192, 524.5119240914562, 360.11615515654427, 274.9356703547923, 265.6297246530682, 255.8175734677021, 208.47219569856006, 171.80740810151005, 159.9705597572926, 152.36977020263734, 140.6113098027677, 127.7712071092298, 109.0390511113554, 107.95899250947329, 102.70418798548263, 91.85499702602515, 84.70889018223615, 80.01603229369348, 79.41851498091562, 77.99903763580198, 70.08986489785748, 68.37231756232859, 62.0974379626223, 58.72395370111129, 57.276397020722825, 55.85600305399964, 55.188836896093825, 49.62185792665924, 214.70666236332372], \"Total\": [12136.0, 9524.0, 3783.0, 2295.0, 12530.0, 4971.0, 7085.0, 2901.0, 2390.0, 18703.0, 1562.0, 6089.0, 8506.0, 9894.0, 6513.0, 6308.0, 2624.0, 9285.0, 2196.0, 2057.0, 1011.0, 1570.0, 3596.0, 903.0, 2473.0, 2948.0, 6184.0, 1707.0, 2614.0, 2331.0, 389.06600835503207, 373.5595905331093, 367.10958224060056, 318.4550808432732, 299.77799472866195, 256.2315055217506, 236.2559067638982, 231.13140842482767, 229.56110673987112, 229.1578546939713, 227.5875891952716, 224.61114217444864, 222.48516299000522, 221.01479941907866, 220.20937301784105, 211.60064182223707, 206.47724072526827, 196.39285288845838, 196.1067036197821, 177.5328640681528, 168.69699629515551, 158.53917076497183, 157.19873024999427, 157.18036045407408, 155.99726574342228, 150.19271235004413, 147.45168207345952, 147.4290607265986, 141.91284217147282, 141.37585368855432, 556.3455271449128, 409.83117248030294, 258.20405385324153, 615.9286669736995, 1140.2892428286334, 1342.3356751821489, 826.0178646845495, 780.4733196972103, 3243.5189595266825, 2297.5454257994593, 5046.240443769272, 1899.9611456036948, 1108.3716092839927, 3032.7380196136487, 3646.453613645557, 1870.079498109382, 2949.5059241722142, 741.2673679147325, 2625.551945966195, 1504.2550484432286, 1583.0373232690624, 7345.049794056938, 12136.394547489745, 2122.620979920441, 6985.7053121758945, 1572.5682280193967, 1745.5306050112, 1471.8574040853666, 8452.766926331404, 2948.32444910105, 1554.7511188532874, 12530.482649911795, 3651.5955000213544, 5145.050465508791, 1459.7810416427926, 1204.8063326860276, 1499.8295828071664, 2948.901695941486, 18703.146721634133, 4960.655199898488, 2626.0364667323624, 8506.292906637886, 3627.8247438228154, 6184.588715031544, 9894.039876366158, 2582.2351811519516, 9285.200921912747, 3846.9134168130095, 3093.5133258528986, 2473.63749494015, 2331.218924151422, 2112.09356674131, 1951.7172077282014, 4971.479361763444, 1152.0857653501278, 573.1556325075436, 542.2118876314696, 482.1521750003668, 480.7378348032605, 203.894442342723, 198.9290346504561, 188.6526504707853, 173.84137746765762, 155.11864071633767, 149.39554332275404, 134.25624445762142, 133.19168401719568, 128.70905080934432, 127.9507006174847, 126.43746154891436, 114.29963000702368, 101.73866988492485, 97.10811888436069, 81.09827786033102, 75.8035986716247, 75.55937635463644, 75.36367423791373, 73.25070590106012, 67.3653939814325, 2614.75822753809, 3596.1459839930767, 9524.537336702922, 911.5257409085373, 2775.4278619105817, 398.59624568079624, 889.7461270308953, 739.0190048155073, 2947.372093005508, 3777.9548784512117, 6308.738609937775, 1897.4684284706473, 1491.87648129696, 884.1558746942404, 681.9986937369073, 9894.039876366158, 18703.146721634133, 511.62089997408196, 618.4527919846179, 568.6116961478007, 657.1608276182367, 6513.18921913936, 2911.0992442085812, 2094.654401673112, 1656.3816491567454, 12136.394547489745, 3846.9134168130095, 8506.292906637886, 5145.050465508791, 8452.766926331404, 2249.1825540628274, 2942.3060899751295, 3830.8272860025445, 12530.482649911795, 9285.200921912747, 3609.3217760568873, 1681.5839392619987, 1435.943918664686, 656.4033336614755, 535.5113797379112, 529.2157514002848, 521.4388464511601, 505.4211401468453, 426.987489018379, 281.67793599541363, 262.7131370825109, 181.0517567357278, 142.59586149106033, 140.4964721216212, 140.09093755370407, 138.60692492711723, 132.67215597690574, 132.53459704150646, 131.59314980397352, 121.53642692353091, 114.11139374850886, 109.76077133653297, 108.68039892652925, 97.41643064735501, 95.73410872806589, 94.47334383139393, 94.29733642059955, 92.53850675236095, 85.99022733663641, 81.80696291256464, 81.41539090626046, 911.871915507408, 313.01984348318325, 275.33221446978933, 1459.6455678436414, 188.65277271431654, 1433.6099629370724, 1282.6578205622293, 1468.7946243131826, 1154.2907152405487, 12530.482649911795, 3120.508007748312, 1231.5759384640771, 3609.3217760568873, 6089.906115041255, 638.609916646574, 729.7018298278789, 544.1390139181268, 9285.200921912747, 2094.654401673112, 406.1587321464791, 4960.655199898488, 3830.8272860025445, 6513.18921913936, 3627.8247438228154, 2626.0364667323624, 3407.2481312371656, 3396.9226912552376, 7085.6277731384625, 2582.2351811519516, 18703.146721634133, 6985.7053121758945, 9894.039876366158, 2426.5712614561508, 6184.588715031544, 3093.5133258528986, 1038.102864954317, 808.7111612659055, 702.6854422470354, 2057.4004696044844, 617.0561015357815, 595.8909702511136, 562.5832621960745, 513.0414691713615, 493.84292066917936, 257.54369305806114, 216.62783672405158, 208.47555085081532, 203.89968216622552, 187.3560399590759, 144.73759776714752, 139.45465945362028, 132.2086810641685, 128.49513801335164, 118.20900746573561, 117.95481669489148, 117.00480758626296, 114.98256900749388, 114.79607817322402, 112.50345477460957, 111.63919104169825, 111.5290932892096, 111.122335930267, 108.91907714117112, 104.980800359832, 103.32973705510761, 2624.9929446712536, 1569.10202849565, 1186.2036097887824, 1003.7135416101814, 3233.4994099818027, 2354.5046273144744, 398.8432135396819, 8506.292906637886, 711.4637684760092, 684.4979067957497, 754.4172069359954, 6089.906115041255, 826.404484968688, 9285.200921912747, 1922.423420541619, 611.4047925392116, 8452.766926331404, 3407.2481312371656, 7085.6277731384625, 1423.499054823277, 3120.508007748312, 3158.2120491902456, 2870.524092327448, 9894.039876366158, 1780.6203627820064, 6513.18921913936, 3103.0010484210757, 6985.7053121758945, 18703.146721634133, 7345.049794056938, 5046.240443769272, 9524.537336702922, 3609.3217760568873, 3846.9134168130095, 1122.1972949470496, 367.718462244192, 336.26203632017797, 294.77198019803177, 267.7841261044327, 262.0615381856896, 244.75950781352552, 213.01289952426836, 208.9242256210783, 207.57951167638134, 202.75945095120832, 196.75983118366608, 180.31016173455603, 159.58317644332217, 154.8808943722939, 153.84350471411003, 148.81619932331688, 141.223867978866, 125.33156648145432, 124.23986734585043, 121.09157128571303, 121.02207935366826, 119.70560353638282, 118.38621989409307, 115.94791107864764, 114.38973814724801, 112.98473850120811, 110.04317437010444, 107.301647664538, 103.61489994991004, 356.8606544273296, 2196.065879123154, 563.193908920186, 1707.3739720139606, 1479.9501460217868, 296.3500896794255, 1533.9925704709178, 1430.0121040426727, 1197.0126276590872, 2133.184038726818, 1270.4567989020472, 636.1212948609107, 6184.588715031544, 406.8172436300855, 1015.6979343554008, 1026.8666421277944, 3663.463250351328, 18703.146721634133, 2249.1825540628274, 3783.5078499448286, 1375.8048034033359, 595.6586087573029, 5145.050465508791, 1814.6618229278397, 3830.8272860025445, 1263.5509520578444, 2030.687261433666, 2948.901695941486, 2286.5764445287955, 1773.2567478966366, 2426.5712614561508, 3777.9548784512117, 3243.5189595266825, 12530.482649911795, 6308.738609937775, 7345.049794056938, 2390.3339999511722, 1570.23455019306, 1116.8963273994723, 663.3049614651474, 638.132040014886, 330.6736584512458, 320.73978836911584, 297.24565471389286, 294.40186278097895, 547.8376020021816, 275.749522294751, 268.5847294527311, 268.09950717223336, 224.72582628992095, 214.80640359897816, 202.0468740912782, 184.81534921755448, 170.36561743539437, 152.70280415304117, 148.69580245218822, 147.5328140084369, 142.2180101370373, 131.3922675482393, 129.6740590227061, 125.88871719560129, 124.27594962842363, 118.45552916554955, 112.37770771769195, 110.23533091600159, 109.62648467640003, 2901.746110992127, 439.607513609926, 281.5141099921409, 467.8907575722807, 2107.2824525462793, 302.9963410265791, 315.1662452372212, 680.7646297233704, 7085.6277731384625, 221.49771374475256, 3407.2481312371656, 555.0949142879184, 410.64913513474056, 1154.2907152405487, 1418.9149833017377, 7345.049794056938, 2536.94294219271, 6985.7053121758945, 2942.3060899751295, 9285.200921912747, 3646.453613645557, 18703.146721634133, 2625.551945966195, 1061.875194808431, 985.8843725050781, 723.2599762178178, 373.9129264881708, 346.58666439076967, 317.5230386431768, 257.7929612117695, 217.68937822821434, 213.69517782827361, 178.264624094094, 149.14247758420802, 144.88937237433177, 139.38636704027354, 135.95053475739874, 133.3160730954091, 129.97964551020007, 119.65821764083306, 118.90154474512558, 112.6154388479341, 106.93588132841842, 108.09707722663401, 94.5369983422115, 93.67423942802859, 92.22123584235011, 91.76044005244293, 89.14565088452994, 86.45185383147832, 86.28385898529855, 84.5903056873735, 84.01959583775881, 1122.280684873025, 1251.1620873605316, 1426.9446322406109, 881.3636320990393, 1263.5509520578444, 346.2665182833497, 12136.394547489745, 411.65072655375906, 317.79730145059835, 1231.5759384640771, 1186.3848924074275, 639.7734421161581, 2030.687261433666, 727.5366155222958, 2349.307445952813, 1039.5502421992055, 3663.463250351328, 18703.146721634133, 2249.1825540628274, 6184.588715031544, 6513.18921913936, 3158.2120491902456, 1562.5889139187257, 294.9146157253517, 291.6710181174729, 250.68047243960393, 218.19844607438662, 218.16565639742075, 182.08503593982164, 174.8246244893065, 161.20182340277046, 152.7782627950378, 149.03024759692366, 137.243602367296, 125.43098764331607, 120.89402221215622, 114.70975750779233, 114.69703660095908, 114.40395608235092, 114.01550503957522, 112.81106586356563, 112.80045981895594, 110.91139340933056, 102.46542156902599, 101.4850969391369, 97.28791182252009, 97.25270466551551, 96.22300725374826, 96.1813124204863, 95.02067277535185, 94.88094937596938, 93.98245011423776, 3783.5078499448286, 214.70651235453852, 270.82798770568394, 1423.499054823277, 1707.3739720139606, 2948.901695941486, 1291.2413748680422, 7085.6277731384625, 402.2810484083435, 1292.5565635263902, 2286.5764445287955, 265.9804794682083, 1021.1450077186898, 3093.5133258528986, 330.4889707215012, 6985.7053121758945, 885.7256267284098, 830.5402230000939, 603.0637118416275, 586.6120997582517, 477.90984916829245, 475.35377971297487, 406.9740590593623, 247.00122358061435, 216.2465002628524, 206.0560594875144, 203.50441526772357, 184.7097390258321, 167.91526734614342, 154.38468503435843, 144.20421396990818, 140.59123725406764, 140.21497971625723, 131.4570724748931, 113.55719141268042, 105.09629510413944, 101.86249500617956, 100.38297493281287, 98.60413922383054, 95.06837728304926, 95.04841232855148, 94.50765531519113, 92.96321237906382, 89.07234600497304, 83.65412205370963, 83.63712168331541, 981.0100749519854, 917.6832413283391, 382.3051280322494, 12136.394547489745, 130.1961191014105, 1219.5912282921834, 3093.5133258528986, 1292.5565635263902, 2295.1237837346875, 1011.9419908033004, 903.5213983785306, 525.4294202684496, 361.03362446067973, 275.8531051632378, 266.5471673787672, 256.7351131319343, 209.3896769854982, 172.72491377366927, 160.88799625895834, 153.28733675975917, 141.52871227139437, 128.68865425790167, 109.95659451861661, 108.87641712500178, 103.6217021378366, 92.77251808104165, 85.62641329643982, 80.93367024256737, 80.33601983785758, 78.91654589027964, 71.00734769850834, 69.28991183979667, 63.01496619924673, 59.64145493029457, 58.193861394648266, 56.77353257540469, 56.106315998729805, 50.5394694630934, 319.9153312796236], \"Category\": [\"Default\", \"Default\", \"Default\", \"Default\", \"Default\", \"Default\", \"Default\", \"Default\", \"Default\", \"Default\", \"Default\", \"Default\", \"Default\", \"Default\", \"Default\", \"Default\", \"Default\", \"Default\", \"Default\", \"Default\", \"Default\", \"Default\", \"Default\", \"Default\", \"Default\", \"Default\", \"Default\", \"Default\", \"Default\", \"Default\", \"Topic1\", \"Topic1\", \"Topic1\", \"Topic1\", \"Topic1\", \"Topic1\", \"Topic1\", \"Topic1\", \"Topic1\", \"Topic1\", \"Topic1\", \"Topic1\", \"Topic1\", \"Topic1\", \"Topic1\", \"Topic1\", \"Topic1\", \"Topic1\", \"Topic1\", \"Topic1\", \"Topic1\", \"Topic1\", \"Topic1\", \"Topic1\", \"Topic1\", \"Topic1\", \"Topic1\", \"Topic1\", \"Topic1\", \"Topic1\", \"Topic1\", \"Topic1\", \"Topic1\", \"Topic1\", \"Topic1\", \"Topic1\", \"Topic1\", \"Topic1\", \"Topic1\", \"Topic1\", \"Topic1\", \"Topic1\", \"Topic1\", \"Topic1\", \"Topic1\", \"Topic1\", \"Topic1\", \"Topic1\", \"Topic1\", \"Topic1\", \"Topic1\", \"Topic1\", \"Topic1\", \"Topic1\", \"Topic1\", \"Topic1\", \"Topic1\", \"Topic1\", \"Topic1\", \"Topic1\", \"Topic1\", \"Topic1\", \"Topic1\", \"Topic1\", \"Topic1\", \"Topic1\", \"Topic1\", \"Topic1\", \"Topic1\", \"Topic1\", \"Topic1\", \"Topic1\", \"Topic1\", \"Topic1\", \"Topic1\", \"Topic1\", \"Topic1\", \"Topic1\", \"Topic1\", \"Topic2\", \"Topic2\", \"Topic2\", \"Topic2\", \"Topic2\", \"Topic2\", \"Topic2\", \"Topic2\", \"Topic2\", \"Topic2\", \"Topic2\", \"Topic2\", \"Topic2\", \"Topic2\", \"Topic2\", \"Topic2\", \"Topic2\", \"Topic2\", \"Topic2\", \"Topic2\", \"Topic2\", \"Topic2\", \"Topic2\", \"Topic2\", \"Topic2\", \"Topic2\", \"Topic2\", \"Topic2\", \"Topic2\", \"Topic2\", \"Topic2\", \"Topic2\", \"Topic2\", \"Topic2\", \"Topic2\", \"Topic2\", \"Topic2\", \"Topic2\", \"Topic2\", \"Topic2\", \"Topic2\", \"Topic2\", \"Topic2\", \"Topic2\", \"Topic2\", \"Topic2\", \"Topic2\", \"Topic2\", \"Topic2\", \"Topic2\", \"Topic2\", \"Topic2\", \"Topic2\", \"Topic2\", \"Topic2\", \"Topic2\", \"Topic2\", \"Topic2\", \"Topic2\", \"Topic2\", \"Topic2\", \"Topic2\", \"Topic2\", \"Topic2\", \"Topic2\", \"Topic2\", \"Topic3\", \"Topic3\", \"Topic3\", \"Topic3\", \"Topic3\", \"Topic3\", \"Topic3\", \"Topic3\", \"Topic3\", \"Topic3\", \"Topic3\", \"Topic3\", \"Topic3\", \"Topic3\", \"Topic3\", \"Topic3\", \"Topic3\", \"Topic3\", \"Topic3\", \"Topic3\", \"Topic3\", \"Topic3\", \"Topic3\", \"Topic3\", \"Topic3\", \"Topic3\", \"Topic3\", \"Topic3\", \"Topic3\", \"Topic3\", \"Topic3\", \"Topic3\", \"Topic3\", \"Topic3\", \"Topic3\", \"Topic3\", \"Topic3\", \"Topic3\", \"Topic3\", \"Topic3\", \"Topic3\", \"Topic3\", \"Topic3\", \"Topic3\", \"Topic3\", \"Topic3\", \"Topic3\", \"Topic3\", \"Topic3\", \"Topic3\", \"Topic3\", \"Topic3\", \"Topic3\", \"Topic3\", \"Topic3\", \"Topic3\", \"Topic3\", \"Topic3\", \"Topic3\", \"Topic3\", \"Topic3\", \"Topic3\", \"Topic3\", \"Topic3\", \"Topic3\", \"Topic4\", \"Topic4\", \"Topic4\", \"Topic4\", \"Topic4\", \"Topic4\", \"Topic4\", \"Topic4\", \"Topic4\", \"Topic4\", \"Topic4\", \"Topic4\", \"Topic4\", \"Topic4\", \"Topic4\", \"Topic4\", \"Topic4\", \"Topic4\", \"Topic4\", \"Topic4\", \"Topic4\", \"Topic4\", \"Topic4\", \"Topic4\", \"Topic4\", \"Topic4\", \"Topic4\", \"Topic4\", \"Topic4\", \"Topic4\", \"Topic4\", \"Topic4\", \"Topic4\", \"Topic4\", \"Topic4\", \"Topic4\", \"Topic4\", \"Topic4\", \"Topic4\", \"Topic4\", \"Topic4\", \"Topic4\", \"Topic4\", \"Topic4\", \"Topic4\", \"Topic4\", \"Topic4\", \"Topic4\", \"Topic4\", \"Topic4\", \"Topic4\", \"Topic4\", \"Topic4\", \"Topic4\", \"Topic4\", \"Topic4\", \"Topic4\", \"Topic4\", \"Topic4\", \"Topic4\", \"Topic4\", \"Topic4\", \"Topic4\", \"Topic4\", \"Topic5\", \"Topic5\", \"Topic5\", \"Topic5\", \"Topic5\", \"Topic5\", \"Topic5\", \"Topic5\", \"Topic5\", \"Topic5\", \"Topic5\", \"Topic5\", \"Topic5\", \"Topic5\", \"Topic5\", \"Topic5\", \"Topic5\", \"Topic5\", \"Topic5\", \"Topic5\", \"Topic5\", \"Topic5\", \"Topic5\", \"Topic5\", \"Topic5\", \"Topic5\", \"Topic5\", \"Topic5\", \"Topic5\", \"Topic5\", \"Topic5\", \"Topic5\", \"Topic5\", \"Topic5\", \"Topic5\", \"Topic5\", \"Topic5\", \"Topic5\", \"Topic5\", \"Topic5\", \"Topic5\", \"Topic5\", \"Topic5\", \"Topic5\", \"Topic5\", \"Topic5\", \"Topic5\", \"Topic5\", \"Topic5\", \"Topic5\", \"Topic5\", \"Topic5\", \"Topic5\", \"Topic5\", \"Topic5\", \"Topic5\", \"Topic5\", \"Topic5\", \"Topic5\", \"Topic5\", \"Topic5\", \"Topic5\", \"Topic5\", \"Topic5\", \"Topic5\", \"Topic5\", \"Topic6\", \"Topic6\", \"Topic6\", \"Topic6\", \"Topic6\", \"Topic6\", \"Topic6\", \"Topic6\", \"Topic6\", \"Topic6\", \"Topic6\", \"Topic6\", \"Topic6\", \"Topic6\", \"Topic6\", \"Topic6\", \"Topic6\", \"Topic6\", \"Topic6\", \"Topic6\", \"Topic6\", \"Topic6\", \"Topic6\", \"Topic6\", \"Topic6\", \"Topic6\", \"Topic6\", \"Topic6\", \"Topic6\", \"Topic6\", \"Topic6\", \"Topic6\", \"Topic6\", \"Topic6\", \"Topic6\", \"Topic6\", \"Topic6\", \"Topic6\", \"Topic6\", \"Topic6\", \"Topic6\", \"Topic6\", \"Topic6\", \"Topic6\", \"Topic6\", \"Topic6\", \"Topic6\", \"Topic6\", \"Topic6\", \"Topic6\", \"Topic6\", \"Topic6\", \"Topic6\", \"Topic7\", \"Topic7\", \"Topic7\", \"Topic7\", \"Topic7\", \"Topic7\", \"Topic7\", \"Topic7\", \"Topic7\", \"Topic7\", \"Topic7\", \"Topic7\", \"Topic7\", \"Topic7\", \"Topic7\", \"Topic7\", \"Topic7\", \"Topic7\", \"Topic7\", \"Topic7\", \"Topic7\", \"Topic7\", \"Topic7\", \"Topic7\", \"Topic7\", \"Topic7\", \"Topic7\", \"Topic7\", \"Topic7\", \"Topic7\", \"Topic7\", \"Topic7\", \"Topic7\", \"Topic7\", \"Topic7\", \"Topic7\", \"Topic7\", \"Topic7\", \"Topic7\", \"Topic7\", \"Topic7\", \"Topic7\", \"Topic7\", \"Topic7\", \"Topic7\", \"Topic7\", \"Topic7\", \"Topic7\", \"Topic7\", \"Topic7\", \"Topic7\", \"Topic7\", \"Topic8\", \"Topic8\", \"Topic8\", \"Topic8\", \"Topic8\", \"Topic8\", \"Topic8\", \"Topic8\", \"Topic8\", \"Topic8\", \"Topic8\", \"Topic8\", \"Topic8\", \"Topic8\", \"Topic8\", \"Topic8\", \"Topic8\", \"Topic8\", \"Topic8\", \"Topic8\", \"Topic8\", \"Topic8\", \"Topic8\", \"Topic8\", \"Topic8\", \"Topic8\", \"Topic8\", \"Topic8\", \"Topic8\", \"Topic8\", \"Topic8\", \"Topic8\", \"Topic8\", \"Topic8\", \"Topic8\", \"Topic8\", \"Topic8\", \"Topic8\", \"Topic8\", \"Topic8\", \"Topic8\", \"Topic8\", \"Topic8\", \"Topic8\", \"Topic8\", \"Topic8\", \"Topic9\", \"Topic9\", \"Topic9\", \"Topic9\", \"Topic9\", \"Topic9\", \"Topic9\", \"Topic9\", \"Topic9\", \"Topic9\", \"Topic9\", \"Topic9\", \"Topic9\", \"Topic9\", \"Topic9\", \"Topic9\", \"Topic9\", \"Topic9\", \"Topic9\", \"Topic9\", \"Topic9\", \"Topic9\", \"Topic9\", \"Topic9\", \"Topic9\", \"Topic9\", \"Topic9\", \"Topic9\", \"Topic9\", \"Topic9\", \"Topic9\", \"Topic9\", \"Topic9\", \"Topic9\", \"Topic9\", \"Topic9\", \"Topic9\", \"Topic9\", \"Topic10\", \"Topic10\", \"Topic10\", \"Topic10\", \"Topic10\", \"Topic10\", \"Topic10\", \"Topic10\", \"Topic10\", \"Topic10\", \"Topic10\", \"Topic10\", \"Topic10\", \"Topic10\", \"Topic10\", \"Topic10\", \"Topic10\", \"Topic10\", \"Topic10\", \"Topic10\", \"Topic10\", \"Topic10\", \"Topic10\", \"Topic10\", \"Topic10\", \"Topic10\", \"Topic10\", \"Topic10\", \"Topic10\", \"Topic10\", \"Topic10\"], \"logprob\": [30.0, 29.0, 28.0, 27.0, 26.0, 25.0, 24.0, 23.0, 22.0, 21.0, 20.0, 19.0, 18.0, 17.0, 16.0, 15.0, 14.0, 13.0, 12.0, 11.0, 10.0, 9.0, 8.0, 7.0, 6.0, 5.0, 4.0, 3.0, 2.0, 1.0, -6.2932, -6.3339, -6.3514, -6.494, -6.5546, -6.7121, -6.7935, -6.8156, -6.8224, -6.8242, -6.8311, -6.8443, -6.8538, -6.8605, -6.8642, -6.9042, -6.9288, -6.9791, -6.9806, -7.0806, -7.1319, -7.1944, -7.2029, -7.203, -7.2106, -7.2488, -7.2673, -7.2675, -7.3059, -7.3097, -5.9909, -6.2976, -6.7388, -5.9237, -5.357, -5.2267, -5.7072, -5.771, -4.5066, -4.8327, -4.1467, -5.0232, -5.4881, -4.6268, -4.4758, -5.0442, -4.6736, -5.8392, -4.7837, -5.255, -5.2159, -3.9513, -3.5404, -4.9927, -4.0336, -5.2476, -5.1914, -5.3238, -4.0187, -4.82, -5.294, -3.7738, -4.7013, -4.4966, -5.388, -5.5079, -5.3831, -5.0167, -4.0514, -4.7698, -5.0961, -4.6643, -4.9966, -4.81, -4.8, -5.1414, -5.0293, -5.1273, -5.1551, -4.1662, -4.2255, -4.3243, -4.4033, -3.4686, -4.9308, -5.6297, -5.6853, -5.803, -5.8059, -6.6662, -6.691, -6.7443, -6.8265, -6.9411, -6.9789, -7.0865, -7.0945, -7.129, -7.1349, -7.1469, -7.2486, -7.366, -7.4131, -7.5951, -7.6634, -7.6667, -7.6693, -7.6981, -7.783, -4.1583, -3.861, -2.9201, -5.2231, -4.1551, -6.0381, -5.2637, -5.4575, -4.1398, -3.9906, -3.5552, -4.7456, -4.9579, -5.472, -5.7006, -3.4579, -3.0723, -5.9583, -5.8271, -5.8986, -5.7923, -4.2031, -4.7697, -5.0316, -5.211, -4.058, -4.7883, -4.4459, -4.7066, -4.5379, -5.113, -5.0383, -4.973, -4.6457, -4.8058, -5.0759, -4.1267, -4.2847, -5.0683, -5.2722, -5.284, -5.2988, -5.3301, -5.4991, -5.9162, -5.9861, -6.36, -6.6001, -6.6151, -6.618, -6.6287, -6.6727, -6.6738, -6.681, -6.7611, -6.8246, -6.8638, -6.8738, -6.9842, -7.0018, -7.0151, -7.017, -7.036, -7.1102, -7.1606, -7.1655, -4.8062, -5.8482, -5.9994, -4.5108, -6.3925, -4.568, -4.6993, -4.6225, -4.8475, -2.9474, -4.1165, -4.8884, -4.0451, -3.6425, -5.43, -5.3442, -5.5746, -3.4504, -4.5941, -5.8185, -3.9935, -4.2159, -3.8456, -4.3447, -4.5518, -4.5236, -4.5273, -4.2785, -4.7734, -3.9762, -4.3846, -4.2904, -4.8231, -4.5482, -4.8092, -4.4698, -4.7198, -4.8605, -3.7863, -4.9906, -5.0256, -5.0832, -5.1755, -5.2137, -5.8665, -6.0402, -6.0787, -6.101, -6.186, -6.4456, -6.483, -6.5367, -6.5654, -6.6495, -6.6516, -6.6598, -6.6774, -6.679, -6.6993, -6.7071, -6.7081, -6.7118, -6.732, -6.7691, -6.7851, -3.6773, -4.2102, -4.4792, -4.7418, -3.7945, -4.1205, -5.649, -3.2294, -5.2962, -5.3337, -5.2939, -3.774, -5.2436, -3.5302, -4.6754, -5.4729, -3.7528, -4.348, -3.9274, -4.9215, -4.4542, -4.484, -4.5887, -3.9655, -4.8503, -4.2185, -4.5999, -4.3085, -4.0523, -4.3898, -4.6617, -4.5962, -4.7427, -4.8028, -4.23, -5.3474, -5.4371, -5.5692, -5.6655, -5.6872, -5.7557, -5.8952, -5.9147, -5.9212, -5.9448, -5.975, -6.0627, -6.1855, -6.2156, -6.2223, -6.2557, -6.3084, -6.4287, -6.4375, -6.4633, -6.4639, -6.4749, -6.4861, -6.5071, -6.5207, -6.5332, -6.5598, -6.5852, -6.6205, -5.4054, -3.6941, -5.0381, -4.0386, -4.2542, -5.6937, -4.3046, -4.3839, -4.5545, -4.11, -4.6035, -5.225, -3.6803, -5.5692, -4.9585, -4.9999, -4.2077, -3.1954, -4.5232, -4.382, -4.9709, -5.3952, -4.4075, -4.9121, -4.6954, -5.1386, -5.0006, -4.8823, -5.0233, -5.094, -5.0217, -4.9205, -4.9598, -4.6838, -4.8333, -5.092, -3.0047, -3.4251, -3.766, -4.2877, -4.3264, -4.9852, -5.0158, -5.0921, -5.1017, -4.4807, -5.1674, -5.1938, -5.1956, -5.3728, -5.4181, -5.4796, -5.5692, -5.651, -5.7611, -5.7878, -5.7957, -5.8327, -5.9124, -5.9256, -5.9555, -5.9685, -6.0168, -6.0699, -6.0893, -6.0949, -2.9725, -4.8317, -5.3347, -4.9419, -3.8491, -5.3173, -5.292, -4.8147, -3.3353, -5.5804, -4.1634, -5.1716, -5.3251, -4.9666, -4.8952, -4.4356, -4.7978, -4.6407, -4.84, -4.8897, -5.0569, -5.0136, -5.1871, -3.2883, -3.3627, -3.6728, -4.3337, -4.4098, -4.4976, -4.7067, -4.8764, -4.895, -5.0772, -5.2566, -5.2857, -5.3246, -5.3498, -5.3695, -5.395, -5.4784, -5.4847, -5.5395, -5.5917, -5.582, -5.7161, -5.7253, -5.7411, -5.7462, -5.7754, -5.8064, -5.8084, -5.8284, -5.8352, -3.5804, -3.5795, -3.5116, -3.9153, -3.7186, -4.8174, -2.4524, -4.7405, -4.9231, -4.1548, -4.1932, -4.6081, -4.0889, -4.6266, -4.1979, -4.5707, -4.1033, -3.7587, -4.4433, -4.3041, -4.3075, -4.5447, -2.702, -4.3719, -4.383, -4.535, -4.6743, -4.6744, -4.8561, -4.897, -4.9785, -5.0325, -5.0575, -5.1404, -5.2311, -5.2682, -5.3211, -5.3212, -5.3238, -5.3272, -5.3379, -5.338, -5.3551, -5.435, -5.4447, -5.4873, -5.4877, -5.4984, -5.4988, -5.5111, -5.5126, -5.5222, -2.1387, -5.0131, -4.9692, -4.2364, -4.2013, -3.9623, -4.3719, -3.7297, -4.9113, -4.4871, -4.4362, -5.1187, -4.9115, -4.8752, -5.1761, -4.8942, -2.7745, -2.8389, -3.1594, -3.1871, -3.3924, -3.3977, -3.5534, -4.0542, -4.1877, -4.2362, -4.2487, -4.3461, -4.4419, -4.5264, -4.595, -4.6206, -4.6233, -4.6882, -4.8357, -4.9138, -4.9453, -4.9601, -4.9781, -5.015, -5.0152, -5.0209, -5.0376, -5.0808, -5.1442, -5.1444, -3.3669, -3.8298, -4.3621, -3.0483, -4.9029, -4.4444, -4.3418, -4.8595, -1.5023, -2.3218, -2.4352, -2.978, -3.354, -3.6239, -3.6584, -3.696, -3.9007, -4.0941, -4.1655, -4.2142, -4.2945, -4.3902, -4.5488, -4.5587, -4.6086, -4.7203, -4.8013, -4.8582, -4.8657, -4.8838, -4.9907, -5.0155, -5.1118, -5.1676, -5.1926, -5.2177, -5.2297, -5.336, -3.8712], \"loglift\": [30.0, 29.0, 28.0, 27.0, 26.0, 25.0, 24.0, 23.0, 22.0, 21.0, 20.0, 19.0, 18.0, 17.0, 16.0, 15.0, 14.0, 13.0, 12.0, 11.0, 10.0, 9.0, 8.0, 7.0, 6.0, 5.0, 4.0, 3.0, 2.0, 1.0, 1.2915, 1.2914, 1.2913, 1.2909, 1.2908, 1.2902, 1.2899, 1.2898, 1.2898, 1.2898, 1.2898, 1.2897, 1.2897, 1.2896, 1.2896, 1.2895, 1.2894, 1.2891, 1.2891, 1.2886, 1.2883, 1.288, 1.2879, 1.2879, 1.2879, 1.2877, 1.2876, 1.2875, 1.2873, 1.2873, 1.236, 1.2351, 1.2558, 1.2015, 1.1524, 1.1195, 1.1246, 1.1175, 0.9574, 0.9761, 0.8753, 0.9756, 1.0496, 0.9044, 0.8711, 0.9704, 0.8854, 1.1008, 0.8916, 0.9773, 0.9654, 0.6953, 0.604, 0.8953, 0.6632, 0.9403, 0.8922, 0.9303, 0.4874, 0.7394, 0.9053, 0.3386, 0.6441, 0.506, 0.8743, 0.9464, 0.8521, 0.5425, -0.3395, 0.2693, 0.579, -0.1645, 0.3554, 0.0086, -0.4513, 0.5506, -0.6171, 0.1661, 0.3562, 1.5687, 1.5687, 1.5687, 1.5686, 1.5683, 1.5683, 1.5675, 1.5674, 1.5672, 1.5672, 1.5645, 1.5644, 1.5642, 1.5637, 1.5631, 1.5629, 1.5622, 1.5621, 1.5619, 1.5618, 1.5617, 1.561, 1.5599, 1.5595, 1.5576, 1.5568, 1.5568, 1.5567, 1.5564, 1.5552, 1.5211, 1.4998, 1.4667, 1.5101, 1.4647, 1.5223, 1.4938, 1.4855, 1.4199, 1.3209, 1.2434, 1.2545, 1.2827, 1.2918, 1.3228, 0.8908, 0.6396, 1.3525, 1.294, 1.3066, 1.2682, 0.5637, 0.8024, 0.8696, 0.925, 0.0864, 0.505, 0.0539, 0.296, -0.0318, 0.7171, 0.5231, 0.3246, -0.5333, -0.3936, 0.2812, 1.9942, 1.9941, 1.9933, 1.993, 1.993, 1.993, 1.9929, 1.9926, 1.9914, 1.9912, 1.9896, 1.9882, 1.9881, 1.9881, 1.988, 1.9878, 1.9877, 1.9877, 1.9871, 1.9866, 1.9863, 1.9862, 1.9852, 1.985, 1.9849, 1.9849, 1.9847, 1.9839, 1.9834, 1.9833, 1.9267, 1.9539, 1.931, 1.7516, 1.9159, 1.7124, 1.6924, 1.6337, 1.6496, 1.1651, 1.3861, 1.544, 1.312, 1.1915, 1.6591, 1.6115, 1.6746, 0.9618, 1.3071, 1.7232, 1.0456, 1.0817, 0.9212, 1.0073, 1.1233, 0.8912, 0.8905, 0.4041, 0.9186, -0.2642, 0.3121, 0.0583, 0.931, 0.2703, 0.7021, 2.1334, 2.1332, 2.133, 2.1328, 2.1328, 2.1328, 2.1327, 2.1325, 2.1324, 2.1307, 2.13, 2.1299, 2.1298, 2.1294, 2.1279, 2.1277, 2.1273, 2.1271, 2.1264, 2.1264, 2.1264, 2.1262, 2.1262, 2.1261, 2.126, 2.126, 2.1259, 2.1258, 2.1255, 2.1253, 1.9982, 1.9799, 1.9906, 1.8951, 1.6726, 1.6638, 1.9108, 1.2704, 1.6848, 1.686, 1.6286, 1.0599, 1.5877, 0.882, 1.3116, 1.6598, 0.7533, 1.0667, 0.7551, 1.366, 1.0485, 1.0066, 0.9975, 0.3832, 1.2133, 0.5483, 0.9084, 0.3883, -0.3404, 0.2568, 0.3602, -0.2094, 0.6144, 0.4906, 2.2953, 2.2936, 2.2934, 2.293, 2.2927, 2.2926, 2.2924, 2.2918, 2.2917, 2.2917, 2.2916, 2.2914, 2.291, 2.2903, 2.2902, 2.2901, 2.2899, 2.2896, 2.2888, 2.2887, 2.2885, 2.2885, 2.2884, 2.2883, 2.2882, 2.288, 2.2879, 2.2877, 2.2875, 2.2872, 2.2656, 2.1599, 2.1767, 2.0671, 1.9944, 2.1632, 1.9081, 1.899, 1.9063, 1.773, 1.7978, 1.868, 1.1382, 1.9708, 1.6665, 1.6142, 1.1345, 0.5165, 1.3068, 0.9279, 1.3506, 1.7635, 0.5951, 1.1327, 0.6021, 1.2681, 0.9316, 0.6769, 0.7902, 0.9738, 0.7324, 0.3909, 0.5042, -0.5713, -0.0346, -0.4454, 2.7645, 2.7643, 2.764, 2.7635, 2.7634, 2.7621, 2.762, 2.7617, 2.7617, 2.7617, 2.7615, 2.7614, 2.7614, 2.7607, 2.7606, 2.7603, 2.7599, 2.7594, 2.7588, 2.7586, 2.7586, 2.7583, 2.7578, 2.7577, 2.7575, 2.7574, 2.757, 2.7566, 2.7565, 2.7564, 2.6028, 2.6308, 2.5735, 2.4582, 2.0461, 2.5174, 2.5033, 2.2104, 1.3472, 2.5675, 1.2513, 2.0576, 2.2056, 1.5306, 1.3956, 0.2109, 0.9118, 0.0561, 0.7214, -0.4775, 0.29, -1.3016, 0.4882, 3.2922, 3.2922, 3.2918, 3.2906, 3.2904, 3.2902, 3.2895, 3.2889, 3.2888, 3.2879, 3.2869, 3.2867, 3.2865, 3.2863, 3.2862, 3.286, 3.2854, 3.2853, 3.2849, 3.2845, 3.2833, 3.2833, 3.2832, 3.2831, 3.283, 3.2827, 3.2824, 3.2824, 3.2822, 3.2821, 2.9449, 2.837, 2.7735, 2.8516, 2.6881, 2.8837, 1.692, 2.7877, 2.8639, 2.2775, 2.2765, 2.4791, 1.8433, 2.3321, 1.5886, 2.0312, 1.2389, -0.0468, 1.3868, 0.5145, 0.4593, 0.9459, 3.4923, 3.4898, 3.4898, 3.4892, 3.4887, 3.4887, 3.4879, 3.4876, 3.4872, 3.4869, 3.4867, 3.4862, 3.4856, 3.4853, 3.4849, 3.4849, 3.4848, 3.4848, 3.4847, 3.4847, 3.4846, 3.4839, 3.4838, 3.4834, 3.4834, 3.4833, 3.4833, 3.4832, 3.4832, 3.4831, 3.1712, 3.166, 2.9777, 2.0511, 1.9044, 1.5969, 2.0131, 0.9529, 2.6399, 1.8969, 1.3774, 2.8462, 1.7082, 0.6361, 2.5717, -0.1975, 3.9875, 3.9874, 3.987, 3.9869, 3.9866, 3.9866, 3.9862, 3.9848, 3.9843, 3.984, 3.984, 3.9835, 3.983, 3.9825, 3.9821, 3.982, 3.9819, 3.9815, 3.9804, 3.9797, 3.9795, 3.9793, 3.9792, 3.9788, 3.9788, 3.9787, 3.9786, 3.9782, 3.9775, 3.9775, 3.2929, 2.8967, 3.24, 1.0961, 3.7765, 1.9977, 1.1695, 1.5245, 4.3075, 4.307, 4.3069, 4.3062, 4.3054, 4.3046, 4.3045, 4.3043, 4.3035, 4.3026, 4.3022, 4.3019, 4.3014, 4.3008, 4.2995, 4.2994, 4.299, 4.298, 4.2971, 4.2965, 4.2964, 4.2962, 4.2949, 4.2946, 4.2932, 4.2924, 4.292, 4.2916, 4.2914, 4.2896, 3.9091]}, \"token.table\": {\"Topic\": [9, 1, 1, 1, 9, 8, 7, 10, 8, 1, 2, 3, 5, 6, 2, 4, 5, 5, 7, 3, 7, 9, 1, 5, 8, 10, 1, 2, 1, 2, 6, 1, 5, 3, 7, 9, 5, 4, 1, 9, 1, 3, 4, 5, 6, 1, 2, 1, 2, 3, 4, 7, 7, 7, 1, 2, 3, 4, 8, 9, 3, 2, 5, 6, 1, 2, 5, 8, 1, 2, 4, 1, 2, 3, 4, 6, 3, 4, 5, 6, 10, 4, 2, 3, 4, 5, 8, 1, 1, 2, 3, 3, 3, 3, 6, 1, 2, 3, 4, 2, 3, 4, 5, 6, 7, 7, 1, 5, 8, 1, 6, 1, 2, 2, 8, 1, 2, 2, 3, 6, 5, 4, 1, 2, 5, 7, 9, 10, 10, 5, 3, 9, 10, 3, 6, 9, 6, 1, 2, 3, 4, 5, 6, 8, 4, 2, 3, 4, 7, 3, 4, 7, 1, 2, 4, 5, 9, 3, 9, 10, 10, 1, 2, 3, 5, 1, 1, 3, 6, 5, 3, 8, 9, 5, 6, 3, 1, 1, 2, 3, 4, 6, 1, 2, 3, 4, 5, 6, 8, 3, 6, 8, 6, 9, 9, 3, 4, 5, 7, 1, 4, 5, 10, 1, 5, 6, 8, 4, 10, 1, 2, 3, 5, 6, 8, 10, 1, 2, 3, 4, 5, 7, 8, 3, 1, 2, 3, 4, 5, 6, 1, 2, 4, 5, 7, 9, 4, 6, 7, 1, 2, 3, 4, 5, 6, 7, 8, 3, 7, 5, 7, 1, 3, 4, 5, 7, 7, 2, 2, 2, 1, 5, 1, 7, 3, 5, 1, 2, 3, 4, 5, 6, 8, 1, 2, 3, 6, 2, 10, 5, 1, 4, 5, 3, 1, 5, 7, 1, 2, 3, 4, 2, 1, 1, 2, 3, 4, 6, 4, 3, 6, 10, 1, 3, 5, 6, 4, 2, 2, 3, 4, 6, 8, 10, 2, 1, 2, 3, 4, 5, 7, 6, 2, 8, 5, 1, 2, 3, 8, 9, 1, 2, 3, 4, 5, 7, 9, 1, 2, 3, 4, 6, 6, 6, 4, 10, 1, 6, 1, 3, 4, 6, 6, 10, 8, 7, 8, 10, 7, 6, 2, 3, 1, 4, 5, 2, 7, 8, 1, 1, 2, 3, 5, 8, 6, 1, 3, 4, 5, 6, 7, 6, 2, 9, 4, 1, 2, 1, 1, 2, 5, 6, 9, 5, 3, 1, 2, 3, 4, 5, 6, 7, 3, 4, 1, 2, 3, 4, 5, 6, 9, 1, 4, 8, 4, 3, 3, 2, 5, 1, 2, 3, 5, 6, 9, 7, 6, 3, 6, 7, 1, 2, 3, 4, 5, 6, 7, 9, 10, 6, 2, 10, 8, 1, 1, 2, 4, 5, 1, 2, 3, 6, 3, 4, 7, 9, 3, 8, 10, 6, 8, 4, 1, 2, 3, 5, 1, 3, 6, 2, 7, 1, 2, 9, 2, 3, 1, 2, 3, 4, 6, 2, 6, 8, 3, 4, 5, 1, 2, 3, 4, 6, 6, 1, 2, 3, 4, 5, 6, 3, 5, 1, 2, 3, 4, 5, 6, 5, 1, 2, 3, 4, 6, 1, 2, 3, 4, 5, 6, 8, 1, 5, 1, 2, 3, 4, 7, 1, 2, 3, 4, 5, 6, 7, 1, 2, 5, 6, 1, 2, 3, 4, 5, 6, 1, 2, 3, 5, 6, 1, 2, 1, 2, 3, 7, 7, 1, 2, 3, 4, 1, 1, 2, 5, 6, 5, 4, 2, 7, 1, 1, 2, 6, 6, 1, 4, 1, 2, 4, 5, 6, 8, 8, 8, 3, 4, 6, 8, 9, 1, 6, 6, 8, 1, 2, 3, 4, 6, 7, 10, 1, 2, 4, 2, 5, 5, 1, 2, 1, 2, 3, 5, 6, 7, 3, 1, 2, 3, 4, 6, 2, 5, 6, 4, 9, 4, 1, 3, 5, 8, 1, 2, 3, 4, 5, 6, 7, 8, 5, 8, 5, 10, 10, 2, 5, 1, 2, 4, 5, 6, 5, 8, 1, 3, 8, 8, 10, 1, 2, 5, 5, 3, 4, 4, 2, 4, 1, 5, 6, 3, 5, 10, 1, 8, 2, 3, 4, 1, 2, 4, 8, 1, 2, 1, 5, 6, 8, 5, 1, 5, 6, 8, 9, 1, 3, 5, 7, 6, 6, 8, 1, 3, 1, 7, 5, 4, 5, 4, 5, 8, 3, 10, 3, 2, 3, 4, 5, 10, 8, 4, 8, 10, 9, 1, 2, 3, 4, 5, 6, 5, 5, 7, 8, 2, 2, 9, 2, 4, 5, 7, 8, 10, 2, 8, 4, 7, 1, 2, 5, 7, 7, 2, 4, 1, 2, 4, 5, 7, 9, 8, 5, 8, 4, 8, 5, 6, 9, 2, 8, 3, 4, 5, 7, 1, 2, 4, 4, 4, 1, 2, 3, 4, 6, 8, 5, 1, 2, 5, 6, 4, 5, 9, 8, 7, 9, 9, 1, 2, 3, 4, 3, 5, 7, 6, 9, 4, 2, 8, 1, 2, 3, 4, 5, 2, 5, 10, 1, 1, 5, 1, 2, 4, 4, 1, 2, 5, 9, 2, 9, 1, 2, 5, 8, 1, 1, 2, 9, 4, 6, 8, 6, 2, 2, 4, 6, 7, 2, 3, 2, 8, 3, 4, 1, 3, 4, 6, 1, 7, 1, 2, 3, 4, 5, 6, 1, 6, 2, 3, 5, 7, 3, 6, 10, 1, 2, 3, 8, 6, 1, 2, 9, 2, 9, 2, 6, 8, 3, 6, 9, 1, 2, 3, 5, 6, 1, 2, 3, 4, 5, 7, 10, 3, 6, 6, 2, 3, 4, 1, 1, 2, 3, 4, 5, 6, 2, 5, 1, 5, 4, 5, 6, 5, 6, 4, 3, 3, 6, 2, 6, 7, 1, 2, 3, 4, 3, 7, 7, 4, 5, 8, 1, 2, 3, 4, 5, 6, 8, 2, 2, 4, 2, 3, 5, 7, 7, 4, 8, 1, 1], \"Freq\": [0.9991807545062346, 0.9945080765579263, 0.997279110161089, 0.998570973205803, 0.9957946365248982, 0.992604909690346, 0.9923396901894501, 0.9813838435416249, 0.9930869899665595, 0.6688117531621708, 0.052560376956935974, 0.17291602274238357, 0.003046978374315129, 0.10245464783634621, 0.1010435141497568, 0.21968815657076157, 0.6786212789025602, 0.39596674920167596, 0.6024524773129794, 0.9972854913521628, 0.9867575420000033, 0.989568660788155, 0.1118620052563959, 0.8877936925110785, 0.9907152133092747, 0.9883858843549242, 0.8242639922472386, 0.17402627659557082, 0.657632872748947, 0.31854092273777124, 0.023976198485638693, 0.028022142188937726, 0.9695661197372454, 0.9971882059653611, 0.993021591746516, 0.9887620120003905, 0.9989330798136471, 0.9955876234986376, 0.9976886521555988, 0.9879609547399462, 0.7143476048427703, 0.0006166142467352355, 0.0678275671408759, 0.16648584661851357, 0.05056236823228931, 0.9969775176288551, 0.9925697896697974, 0.3477488206121038, 0.13470112418966868, 0.012370511405173654, 0.12370511405173654, 0.38211135229314175, 0.9929059166925543, 0.996833202272774, 0.39146429074008293, 0.1490215012643916, 0.2744452376864826, 0.06756072400055932, 0.05753975536889741, 0.05980255473733719, 0.9937394513339133, 0.988629621924902, 0.9963456270496702, 0.9897329319772761, 0.43756342617021543, 0.2997115857130502, 0.034850184385238396, 0.22768787131689086, 0.2656170676875094, 0.7299199181492074, 0.003689125940104297, 0.35074528904935354, 0.35142502798161973, 0.009516345051726646, 0.15871904068415513, 0.129490266596709, 0.32042888856735297, 0.439029191478646, 0.12952401502154365, 0.1102774746368163, 0.9944806556138032, 0.9989376149594139, 0.07376190356026294, 0.17562357990538793, 0.46364625095022416, 0.049877096693130174, 0.23674058571246295, 0.9969985046377202, 0.8682007711869475, 0.06138793331624882, 0.07015763807571293, 0.992331795450761, 0.9978620863278564, 0.9975932229373312, 0.9942852798915398, 0.6950401561730818, 0.1936328880834099, 0.019023581987142026, 0.09172084172372047, 0.2849713654378454, 0.1785820556743831, 0.32391745204768424, 0.06332697009729897, 0.05351128973221763, 0.09562372484692146, 0.9878647852611949, 0.8438074160371574, 0.15496032891356692, 0.9928104051020443, 0.9951937779109444, 0.9962459052175947, 0.6427396892623779, 0.3567071926922948, 0.9965404648746965, 0.9954577694416408, 0.21700921330077144, 0.7815264235764269, 0.13564936883445525, 0.7844370066436933, 0.07947134739796369, 0.9900203745195657, 0.9985048099474673, 0.28236203385939485, 0.0020387150459162083, 0.01936779293620398, 0.195716644407956, 0.49846582872651296, 0.9892448141809373, 0.9991827251160962, 0.9909855717113664, 0.9941807278801027, 0.991532752009194, 0.9893257790628898, 0.9990450627992976, 0.9966457176443061, 0.0018253584572240037, 0.9967701696689523, 0.14494128578039983, 0.0718355544909674, 0.2037928107759468, 0.2517772676068484, 0.006492014747710217, 0.2423215069960531, 0.07889209226021764, 0.991561835031159, 0.11408398860571473, 0.5441421703722011, 0.3377655168270318, 0.004165988347961493, 0.419891235238332, 0.5784092519997772, 0.999175802568221, 0.4206244405654266, 0.09044515172779898, 0.05884383365423066, 0.09371425359747847, 0.3356277919537601, 0.9955862868679822, 0.8064756516913911, 0.1843372918151751, 0.9858134723918226, 0.26561297486034136, 0.3214424536526424, 0.14662287359594214, 0.26674084311877166, 0.9965991321742743, 0.9936071588263442, 0.22845086073797852, 0.7710216549906775, 0.994312440047147, 0.9964663018642104, 0.9892584135058174, 0.9946284212268514, 0.990520317356568, 0.9961544288497254, 0.9862420671691832, 0.9951049126878156, 0.7234986541309392, 0.009625259256730898, 0.09571785594193503, 0.16309467073905132, 0.007486312755235142, 0.24559975019348446, 0.1919510104349077, 0.16652011431558236, 0.32084733323148823, 0.06375142451830873, 0.011496158519695017, 0.9929037539364585, 0.1346468144121604, 0.7352143517108439, 0.1260978103224994, 0.9955883035634951, 0.9923823097867019, 0.9916492456305093, 0.31608629071383837, 0.23769689061680646, 0.08344678074845333, 0.3616027165766311, 0.7277331630638846, 0.2607130171502792, 0.011316424784486244, 0.9794847537861088, 0.2937038076899151, 0.6720222837857343, 0.013985895604281672, 0.01958025384599434, 0.995524983871667, 0.99464867931153, 0.3847417641198311, 0.12218204539876819, 0.43621623785086017, 0.05682143456820571, 0.7821876633791104, 0.21782441258658772, 0.9838932517072609, 0.2326512879018882, 0.21971968523932744, 0.0835851772098244, 0.4215702467994801, 0.03479776716470889, 0.0017634003630764643, 0.005878001210254881, 0.9996527445057218, 0.0292365047125034, 0.28818840359467635, 0.4012188191349797, 0.0963238414188728, 0.18377231533573565, 0.001305201103236759, 0.31190384502981144, 0.032512944976605784, 0.34166145568636586, 0.3124549118938217, 0.001102133728020535, 0.997606581948703, 0.9979700097673514, 0.9919841957787507, 0.9943197017926501, 0.32100391909322695, 0.23791026156228265, 0.014432056308006116, 0.05116819963747623, 0.22172886509573034, 0.023178757100737097, 0.009621370872004077, 0.12070447093968752, 0.9959663585702152, 0.9983527537232831, 0.3461325804149395, 0.651358583144477, 0.04532854615546033, 0.1734989180433137, 0.22664273077730165, 0.11097678541509254, 0.4423440883446646, 0.9930082308311994, 0.9906429346158423, 0.9953298187361713, 0.9864574453452328, 0.27530789747408146, 0.7226832308694638, 0.9935675858681638, 0.9924630852288084, 0.12147794535491024, 0.8739663290811598, 0.6579155387055114, 0.00871936256115738, 0.14010430297132428, 0.16963123528069815, 0.02021306775541029, 0.0031706772949663202, 0.9952831330728416, 0.016740955085740757, 0.10532850908111893, 0.7540405186535732, 0.12346454375733808, 0.9927395366406859, 0.9833696038146517, 0.9962468664795204, 0.9124433236097416, 0.04870693898272642, 0.037341986553423585, 0.9958213268966597, 0.0957618684097677, 0.35772202083648763, 0.5460800760557002, 0.17465059991598222, 0.5074772350567979, 0.14422824425932096, 0.17353881947670224, 0.9885888132002612, 0.9929078229275, 0.39114348134268767, 0.08627759665980354, 0.37267511400656356, 0.1494008223310336, 0.0005512945473469875, 0.9977189130865728, 0.9223294070715529, 0.06890966834442637, 0.9863751198786634, 0.840326321392699, 0.07077216359247021, 0.037248507153931694, 0.05140293987242574, 0.9967397327891256, 0.9965400954467508, 0.10141128468521865, 0.6811001147101847, 0.2069338376684867, 0.004111268298049405, 0.005481691064065873, 0.9802817921826332, 0.9925968637960825, 0.07435906201203722, 0.2905420303781587, 0.07780617084703231, 0.06697240022276199, 0.2555784979089226, 0.23440340077966698, 0.99638850507924, 0.9944910571176954, 0.9940410482705441, 0.9962544239114601, 0.3320784789237367, 0.2197457588927443, 0.2722223580313101, 0.03853750249238426, 0.13693112587719514, 0.0004256573577556718, 0.37330150275172413, 0.0889623877709354, 0.19963330078741007, 0.15579059293857586, 0.18175569176167183, 0.9971520585914089, 0.08817869928629633, 0.11954207277546318, 0.44795436062014227, 0.3415487793584662, 0.0026272983027574325, 0.9982260097536246, 0.9994419190158365, 0.9871311290146956, 0.9958030734661755, 0.9954084549010022, 0.9958988840232108, 0.7831308495539031, 0.09924469291581722, 0.10736471324529318, 0.009022244810528837, 0.9953206315127022, 0.9926843450248095, 0.9895464513529539, 0.9901281738589222, 0.32508601442766827, 0.672052818287968, 0.9898510000937962, 0.9980326372619543, 0.23636079296549034, 0.7632483939510626, 0.35792658760183266, 0.6384241582938811, 0.002921849694708838, 0.9819054172755859, 0.9928022962113654, 0.9872898666477645, 0.9975557412671523, 0.7063375887996519, 0.13280142680134466, 0.12284131979124381, 0.011620124845117657, 0.024900267525252123, 0.9972818727353956, 0.2535952217800512, 0.0003092624655854283, 0.6302769048631028, 0.06587290516969622, 0.04669863230339968, 0.0034018871214397113, 0.9887936934035886, 0.991052864704062, 0.995946483316559, 0.9930652842336412, 0.7020363125296354, 0.29696644741969175, 0.9978193467668358, 0.6779220077213269, 0.19488649747586534, 0.11899010571958775, 0.008361466888403463, 0.9896387790996695, 0.9945171249466949, 0.995492548017453, 0.1952612602763626, 0.3947464087131394, 0.10447439829682707, 0.08421042851458682, 0.16868819172287075, 0.017162887335353885, 0.035448580384235595, 0.7259174400228416, 0.2719893192996976, 0.7273832958099165, 0.05947490045334338, 0.01578979658053364, 0.06579081908555684, 0.008421224842951274, 0.12263408677547795, 0.9910309430365437, 0.7201346318517841, 0.2792100941039373, 0.9867618515148152, 0.9961466400907699, 0.9922126472079191, 0.9991583932533089, 0.9893989377060339, 0.9970717976609006, 0.3474485827563931, 0.18535289506071276, 0.01973338806730022, 0.19028624207753783, 0.25441975329626354, 0.0028190554381857455, 0.9969240385461179, 0.995809342561822, 0.7156168234902585, 0.11431078362098221, 0.16911732371323393, 0.2766554218619974, 0.07825904393992211, 0.17834654021845886, 0.0635450501413004, 0.31416802143650546, 0.026194142806337566, 0.062089819985392744, 0.000808461197726468, 0.9919503493213268, 0.9978229236862328, 0.9956132088131193, 0.9962642755458658, 0.9910932724525253, 0.9946841254421914, 0.0007349438353320758, 0.9027210137407411, 0.0959626664990739, 0.0005249598823800541, 0.07848242010295721, 0.9201387184484638, 0.7077939631782805, 0.2910878477697702, 0.1268574838176199, 0.8727642505290307, 0.9944991856488389, 0.9980961907985871, 0.9976873115869292, 0.9877280809997487, 0.9916018062093624, 0.571739585819449, 0.4250759529353294, 0.9989632428917317, 0.48933060004263956, 0.09215408965783563, 0.4185014236940552, 0.9968969221244547, 0.33868081865092997, 0.16753891560923662, 0.49360927824656814, 0.9976103498851459, 0.9975584516514444, 0.1380891136771849, 0.8614453553473526, 0.9921806357218159, 0.9994822356554036, 0.9941908504248154, 0.32126685209282924, 0.08304534581424686, 0.02040542782864351, 0.08779079414648953, 0.48735754372132295, 0.7395449935161551, 0.2495583928737643, 0.009130185105137719, 0.21221194212274974, 0.7870771562299169, 0.9941055095539586, 0.2390849440755553, 0.4644293741237799, 0.130191370408959, 0.11919895918709439, 0.046717747692924604, 0.9948018977134966, 0.5496218695843883, 0.132470170697451, 0.022600255226903256, 0.1530282341869835, 0.06453325890091653, 0.07773943213591422, 0.9884844200636911, 0.9972082424141897, 0.32363608563652707, 0.3449518760158003, 0.07954429092753194, 0.19314185672926876, 0.00025994866316186914, 0.057968551885096815, 0.998046162164915, 0.2053652809194414, 0.3784081951682605, 0.10445642887457192, 0.15491085489700665, 0.15688173091350802, 0.5322297225334752, 0.012024555323510468, 0.18595115911000115, 0.1744992016590388, 0.0037218861715627638, 0.06656450268371866, 0.02490800745584311, 0.6112785752162034, 0.38813645560695914, 0.32225474671748006, 0.10004326465259082, 0.16353225952827344, 0.13082580762261875, 0.2828146135371317, 0.1479774117496379, 0.14043853342178153, 0.3559427553366472, 0.28583118688758297, 0.024985996743752542, 0.03909446904302661, 0.005708007876805538, 0.2676202766546918, 0.0732020168496657, 0.6076554516983002, 0.051162699948691076, 0.1594613538775103, 0.7220143806282897, 0.020447827684094262, 0.0007925514606238086, 0.09716680907247893, 0.9894037330033282, 0.6691375084726777, 0.08879821388122007, 0.20967836310017127, 0.020624101288541436, 0.010884942346730202, 0.0006034421108279254, 0.9993001355310445, 0.2393068669397826, 0.7599609963628231, 0.29315304489734056, 0.7057058102087955, 0.9945350401842759, 0.5742244550175606, 0.010175270909939053, 0.19536520147082984, 0.21978585165468356, 0.9949473488678031, 0.6645180753620892, 0.3217488028156238, 0.01186639420289445, 0.0013561593374736515, 0.9918246817055232, 0.989772289847827, 0.9994771301233042, 0.9947733471122653, 0.9923744279098952, 0.7285998482333587, 0.20807641651189898, 0.06315418392533675, 0.9914356125791405, 0.9974181843687117, 0.9908577783664458, 0.47170104107383615, 0.07562137466532384, 0.06578720486579742, 0.19803983320425614, 0.03831935128780984, 0.15022542142035183, 0.9952200179753701, 0.9938125794769976, 0.9949337072880405, 0.6215194984354481, 0.2044472034327132, 0.17173565088347909, 0.9862230130782784, 0.8379530516862813, 0.1601592224171027, 0.8216789100122787, 0.1760740521454883, 0.38221063463819377, 0.06832095661323531, 0.17692549613521785, 0.29358675223894987, 0.07863355383787461, 0.9983073082404919, 0.9990691256891586, 0.05375602443345225, 0.942376020170112, 0.0021941234462633575, 0.9927884829884288, 0.9912843228716454, 0.9927338441607922, 0.19350265011655154, 0.8052837560405983, 0.6551571069106751, 0.11326073049565041, 0.1393134409002189, 0.007678693592925451, 0.08419139046528977, 0.9967468717107306, 0.9930688229750099, 0.04901316064097821, 0.05517649221858625, 0.33164593727128966, 0.34367910844661964, 0.2201189849145728, 0.2535009110588108, 0.5875848931826739, 0.157808514169061, 0.9949038965788685, 0.9993495522731669, 0.9978889288586129, 0.01770843425129328, 0.0026430498882527285, 0.25452570423873777, 0.7249885843477234, 0.13293432108355296, 0.22164819038982547, 0.06469288315565103, 0.07643041047925016, 0.31309171721321405, 0.06250915714195816, 0.12829390330445561, 0.00027296575171160774, 0.7953734930128689, 0.20440747353570782, 0.9952448911472943, 0.9884637600176903, 0.9971370410104494, 0.7577849326983209, 0.24090774726080946, 0.03996871451834361, 0.7803163602654103, 0.0005293869472628292, 0.148757732180855, 0.03043974946761268, 0.9973810936931212, 0.9939228020041692, 0.9985020046405161, 0.9370498127029334, 0.05811161629165479, 0.9877178592103025, 0.99400027093736, 0.04608056023443227, 0.9272307852050397, 0.025850070375413228, 0.9878692667552749, 0.13319804348608733, 0.8657872826595676, 0.989899996963965, 0.0009721004877501952, 0.9983472009194505, 0.9436581663453399, 0.04313865903292983, 0.010784664758232457, 0.9949896572705343, 0.9878508494751594, 0.9913002533153693, 0.9902681140190653, 0.9996231165385343, 0.27595212114562706, 0.5053581013751243, 0.21860062608825276, 0.045580180968389776, 0.7507323924205375, 0.19304547233670963, 0.010054451684203627, 0.04665823352810266, 0.9530517864920642, 0.5523211647090318, 0.13808029117725795, 0.14199746255817305, 0.16745907653412134, 0.9945153865840666, 0.5276364835743419, 0.07195042957831935, 0.11140711676642996, 0.20269905967225452, 0.08510265864102289, 0.15202807551161646, 0.7390903363333969, 0.010914836190577593, 0.09667426340225868, 0.9976934936171235, 0.8735064531693427, 0.12283684497693881, 0.992490407512337, 0.9902604489175001, 0.996936745196067, 0.9924177205009564, 0.9915546042579437, 0.991454626418811, 0.9913338446511807, 0.25608970749371485, 0.7392140897048128, 0.0033784921832943913, 0.9977027301302579, 0.9994229263640393, 0.9826151924039755, 0.2682797782783202, 0.3453432476147963, 0.17679266494838616, 0.20934888996219153, 0.9971366864354213, 0.9917826890338762, 0.9914122538467306, 0.9968987100788402, 0.9979472024251915, 0.9948748923465733, 0.5222374712612193, 0.145142034487911, 0.09037145543586911, 0.12131683260027278, 0.059152225376205236, 0.06189075432880733, 0.9882906989062311, 0.356266118278767, 0.6433213027517862, 0.9909387224916478, 0.997983736978231, 0.9990575655191801, 0.9945492309269491, 0.4263771290008022, 0.032456236097037086, 0.3716905942071644, 0.14849839529329295, 0.020451874800872683, 0.9995103602940061, 0.39877710171286473, 0.5981656525692971, 0.9971017726366749, 0.9871485498937699, 0.038690727167668894, 0.7685385351032411, 0.18290161933807111, 0.008793347083561111, 0.9900537830943469, 0.900762017384599, 0.09872351710535206, 0.5016316811535452, 0.22700316714487795, 0.0003295871755279535, 0.013842661372174046, 0.20170735142310753, 0.05545304228257817, 0.9949059324225863, 0.9893756495762673, 0.9965639460279013, 0.9991206239013787, 0.9972854988145601, 0.17050655116839447, 0.8241149973139066, 0.9975213546740006, 0.2747937142333859, 0.7219156899351664, 0.9956212510490628, 0.999024538995936, 0.9959492789631059, 0.993861714218528, 0.35973596746169073, 0.015289840411594882, 0.6247598679293354, 0.9982884837648425, 0.9982931401182441, 0.35902515458773376, 0.11873431558235553, 0.38704564672007236, 0.09756775677735158, 0.02197290390233744, 0.01572372939800294, 0.9955762639859939, 0.4080374050634075, 0.08472375713727077, 0.5054210339568223, 0.0009738362889341468, 0.7998130322161339, 0.19807281989051592, 0.9965230286489121, 0.9946570123975089, 0.9851205196383567, 0.9989565510863073, 0.9942357436474706, 0.34472731588803396, 0.5252412693915753, 0.0676172668642028, 0.06278746208818832, 0.13385242544420858, 0.27120884108329174, 0.594977535089702, 0.9952382679656417, 0.9961575441036553, 0.9927622298199081, 0.9951600851309743, 0.9945075407458307, 0.44648102010757307, 0.20170909890922417, 0.08435107772567557, 0.2512786663244529, 0.016089406130002634, 0.12704536901752658, 0.8724692725361323, 0.996907393292771, 0.9920587867987606, 0.9418512449014641, 0.0561206700329888, 0.12459949101873406, 0.27173293254085623, 0.6031145575906809, 0.9919052335322494, 0.1312591857602295, 0.27564429009648195, 0.5925414671461788, 0.9913348793494398, 0.9906587352492898, 0.9950932969920371, 0.03592276222189239, 0.2790279670258618, 0.677520003766389, 0.0075187176743495695, 0.9958683538506161, 0.24326118898450919, 0.28249686462717194, 0.47344381942146413, 0.9952560065395888, 0.9877403824506464, 0.9871190763298154, 0.9979627695341656, 0.9984652033814595, 0.9329432161357049, 0.024470641734707012, 0.00917649065051513, 0.03281290596244804, 0.4969793581072362, 0.5027082267885876, 0.9996325247708215, 0.9976994007776164, 0.6971703075770914, 0.3022886880510045, 0.19677741327557263, 0.008433317711810256, 0.6381210401936427, 0.15601637766848975, 0.9974047637173431, 0.9917127680293564, 0.097157150179788, 0.13085327162942548, 0.34033082664133835, 0.39817583512988264, 0.015724856676497482, 0.01797126477313998, 0.964353565655197, 0.03485615297548905, 0.1646469327044431, 0.1174907723667628, 0.08392198026197342, 0.6338107652166183, 0.9343417485622502, 0.06470206944269104, 0.991672985739518, 0.22996228840581862, 0.12103278337148349, 0.25114302549582823, 0.3994081851258955, 0.9992137797548092, 0.6772757774381272, 0.3221511365905795, 0.9982361534598406, 0.9797315223628197, 0.9938730845521693, 0.28247959163956, 0.5722646899594535, 0.14367496471322447, 0.424522643189373, 0.574354164315034, 0.9889697018301846, 0.6713398263185973, 0.16253490531923936, 0.05700499577863178, 0.09940540586191161, 0.009422313351839963, 0.0023030192268822295, 0.3658729878440235, 0.34176805326932286, 0.20466164196226744, 0.0264079538015829, 0.05880375759305959, 0.9933632020188157, 0.14922049808553178, 0.8505223770787355, 0.9953975687811416, 0.03833622771792323, 0.9584056929480806, 0.9942744923558295, 0.9943566252486309, 0.282903111829398, 0.2057744798842343, 0.33147648690936743, 0.15837864116983985, 0.0020606886397562807, 0.01942935003198779, 0.4666741793669373, 0.5326386730749221, 0.9970897140327423, 0.994065525805581, 0.8571781666036694, 0.10451837867881174, 0.03760112403688959, 0.9961382809738396, 0.9991974837973017, 0.9906573358512203, 0.9854600436708417, 0.9901357673743845, 0.992940453954897, 0.9829256812521445, 0.9948186573240165, 0.9991029652870641, 0.475556993787135, 0.12392364658948143, 0.34079002812107395, 0.059250993525595805, 0.637394719629704, 0.36213763688515666, 0.9912482011015165, 0.2971131473303771, 0.6523913023391879, 0.05030487150567231, 0.45480603459320956, 0.2798806366727443, 0.0025267001921844977, 0.05928027373971321, 0.18250549849701872, 0.020991047750455825, 0.99254460416513, 0.9997422844125486, 0.9533456577117676, 0.0426496741607896, 0.9977649187354348, 0.9993426493525153, 0.3350020688545962, 0.66422823997032, 0.9982579207211124, 0.47371897461016627, 0.5225947418318501, 0.9971614366711531, 0.9972600835535874], \"Term\": [\"ab\", \"ad\", \"adju\", \"adly\", \"adore\", \"afraid\", \"ago\", \"air\", \"airy\", \"al\", \"al\", \"al\", \"al\", \"al\", \"ale\", \"ale\", \"ale\", \"already\", \"already\", \"andal\", \"ant\", \"appoint\", \"appointed\", \"appointed\", \"appreciate\", \"are\", \"area\", \"area\", \"arm\", \"arm\", \"arm\", \"arrived\", \"arrived\", \"atile\", \"attention\", \"avoid\", \"aw\", \"awe\", \"awkward\", \"aying\", \"back\", \"back\", \"back\", \"back\", \"back\", \"bad\", \"bag\", \"be\", \"be\", \"be\", \"be\", \"be\", \"beach\", \"beading\", \"beautiful\", \"beautiful\", \"beautiful\", \"beautiful\", \"beautiful\", \"beautiful\", \"become\", \"beige\", \"believe\", \"bell\", \"better\", \"better\", \"better\", \"better\", \"big\", \"big\", \"big\", \"bit\", \"bit\", \"bit\", \"bit\", \"bit\", \"black\", \"black\", \"black\", \"black\", \"blazer\", \"blou\", \"blue\", \"blue\", \"blue\", \"blue\", \"blue\", \"bodice\", \"body\", \"body\", \"body\", \"bonu\", \"boot\", \"bootie\", \"both\", \"bottom\", \"bottom\", \"bottom\", \"bottom\", \"bought\", \"bought\", \"bought\", \"bought\", \"bought\", \"bought\", \"boyfriend\", \"bra\", \"bra\", \"brighter\", \"broad\", \"brown\", \"bu\", \"bu\", \"build\", \"burgundy\", \"c\", \"c\", \"ca\", \"ca\", \"ca\", \"call\", \"cami\", \"can\", \"can\", \"can\", \"can\", \"can\", \"cardi\", \"cardigan\", \"care\", \"carf\", \"change\", \"charming\", \"cla\", \"coat\", \"coat\", \"cold\", \"color\", \"color\", \"color\", \"color\", \"color\", \"color\", \"color\", \"combo\", \"comfortable\", \"comfortable\", \"comfortable\", \"comfortable\", \"comfy\", \"comfy\", \"compliment\", \"con\", \"con\", \"con\", \"con\", \"con\", \"cooler\", \"coral\", \"coral\", \"cord\", \"could\", \"could\", \"could\", \"could\", \"coverage\", \"covered\", \"cozy\", \"cozy\", \"cription\", \"cro\", \"crop\", \"crotch\", \"cu\", \"cuff\", \"cular\", \"cup\", \"cut\", \"cut\", \"cut\", \"cut\", \"cut\", \"cute\", \"cute\", \"cute\", \"cute\", \"cute\", \"cute\", \"cuter\", \"dark\", \"dark\", \"dark\", \"darker\", \"darling\", \"daughter\", \"day\", \"day\", \"day\", \"day\", \"de\", \"de\", \"de\", \"detailed\", \"di\", \"di\", \"di\", \"di\", \"do\", \"dot\", \"dre\", \"dre\", \"dre\", \"dre\", \"dry\", \"dry\", \"dye\", \"e\", \"e\", \"e\", \"e\", \"e\", \"e\", \"e\", \"ea\", \"ed\", \"ed\", \"ed\", \"ed\", \"ed\", \"ed\", \"ee\", \"ee\", \"ee\", \"ee\", \"ee\", \"ela\", \"embroidery\", \"ent\", \"errand\", \"even\", \"even\", \"even\", \"even\", \"even\", \"even\", \"even\", \"even\", \"evening\", \"ever\", \"everal\", \"everal\", \"every\", \"every\", \"every\", \"every\", \"every\", \"everyday\", \"everyone\", \"exchange\", \"exchanged\", \"excited\", \"excited\", \"expen\", \"ey\", \"eye\", \"eye\", \"fabric\", \"fabric\", \"fabric\", \"fabric\", \"fabric\", \"fabric\", \"fabulou\", \"fall\", \"fall\", \"fall\", \"fall\", \"falling\", \"faux\", \"fell\", \"figure\", \"figure\", \"figure\", \"finding\", \"fir\", \"fir\", \"fir\", \"fit\", \"fit\", \"fit\", \"fit\", \"flared\", \"flatter\", \"flattering\", \"flattering\", \"flattering\", \"flattering\", \"flattering\", \"flower\", \"forward\", \"forward\", \"fre\", \"front\", \"front\", \"front\", \"front\", \"frumpy\", \"ft\", \"fun\", \"fun\", \"fun\", \"fun\", \"fun\", \"fur\", \"gal\", \"get\", \"get\", \"get\", \"get\", \"get\", \"get\", \"giving\", \"glove\", \"gold\", \"gone\", \"gorgeou\", \"gorgeou\", \"gorgeou\", \"gorgeou\", \"gorgeou\", \"got\", \"got\", \"got\", \"got\", \"got\", \"got\", \"gray\", \"great\", \"great\", \"great\", \"great\", \"great\", \"grey\", \"h\", \"hable\", \"hade\", \"half\", \"hand\", \"hape\", \"hape\", \"hape\", \"hape\", \"hapele\", \"happened\", \"hate\", \"have\", \"he\", \"he\", \"head\", \"hed\", \"heel\", \"heel\", \"heer\", \"heer\", \"heer\", \"hei\", \"hemline\", \"her\", \"hide\", \"high\", \"high\", \"high\", \"high\", \"high\", \"hing\", \"hirt\", \"hirt\", \"hirt\", \"hirt\", \"hirt\", \"hirt\", \"hmere\", \"hoe\", \"home\", \"hone\", \"houlder\", \"houlder\", \"hourgla\", \"however\", \"however\", \"however\", \"however\", \"hrunk\", \"hu\", \"hug\", \"i\", \"i\", \"i\", \"i\", \"i\", \"i\", \"i\", \"ic\", \"ic\", \"ide\", \"ide\", \"ide\", \"ide\", \"ide\", \"ide\", \"idering\", \"ign\", \"ign\", \"igned\", \"igner\", \"ilky\", \"ily\", \"im\", \"immediately\", \"in\", \"in\", \"in\", \"in\", \"in\", \"in\", \"incredibly\", \"intere\", \"ion\", \"ion\", \"ion\", \"it\", \"it\", \"it\", \"it\", \"it\", \"it\", \"it\", \"it\", \"itant\", \"itchy\", \"ite\", \"ition\", \"itive\", \"ive\", \"ize\", \"ize\", \"ize\", \"ize\", \"izing\", \"izing\", \"jacket\", \"jacket\", \"jean\", \"jean\", \"jer\", \"ju\", \"jump\", \"k\", \"kimono\", \"kin\", \"kin\", \"kinny\", \"kirt\", \"kirt\", \"kirt\", \"knew\", \"knit\", \"knit\", \"knit\", \"l\", \"la\", \"large\", \"large\", \"late\", \"lb\", \"leather\", \"leeve\", \"leeve\", \"leeve\", \"leeve\", \"leeve\", \"leg\", \"leg\", \"leg\", \"legging\", \"legging\", \"lender\", \"length\", \"length\", \"length\", \"length\", \"length\", \"lighter\", \"like\", \"like\", \"like\", \"like\", \"like\", \"like\", \"likely\", \"linen\", \"little\", \"little\", \"little\", \"little\", \"little\", \"little\", \"local\", \"long\", \"long\", \"long\", \"long\", \"long\", \"look\", \"look\", \"look\", \"look\", \"look\", \"look\", \"look\", \"looked\", \"looked\", \"lot\", \"lot\", \"lot\", \"lot\", \"lot\", \"love\", \"love\", \"love\", \"love\", \"love\", \"love\", \"love\", \"loved\", \"loved\", \"loved\", \"loved\", \"m\", \"m\", \"m\", \"m\", \"m\", \"machine\", \"made\", \"made\", \"made\", \"made\", \"made\", \"mall\", \"mall\", \"maller\", \"maller\", \"many\", \"many\", \"match\", \"material\", \"material\", \"material\", \"material\", \"maternity\", \"me\", \"me\", \"me\", \"me\", \"mea\", \"med\", \"medium\", \"mell\", \"middle\", \"model\", \"model\", \"model\", \"money\", \"motif\", \"move\", \"much\", \"much\", \"much\", \"much\", \"much\", \"much\", \"multiple\", \"muted\", \"nag\", \"navy\", \"navy\", \"navy\", \"near\", \"neck\", \"neck\", \"neutral\", \"neutral\", \"nice\", \"nice\", \"nice\", \"nice\", \"nice\", \"night\", \"no\", \"normally\", \"normally\", \"normally\", \"note\", \"notice\", \"nude\", \"nug\", \"nug\", \"o\", \"o\", \"o\", \"o\", \"o\", \"occa\", \"ock\", \"oft\", \"oft\", \"oft\", \"oft\", \"oft\", \"old\", \"old\", \"old\", \"ole\", \"olutely\", \"ome\", \"on\", \"on\", \"on\", \"on\", \"one\", \"one\", \"one\", \"one\", \"one\", \"one\", \"one\", \"one\", \"online\", \"online\", \"oon\", \"opted\", \"orange\", \"order\", \"order\", \"ordered\", \"ordered\", \"ordered\", \"ordered\", \"ordered\", \"ordering\", \"originally\", \"otherwi\", \"outfit\", \"outfit\", \"overly\", \"own\", \"p\", \"p\", \"p\", \"package\", \"pair\", \"pair\", \"pajama\", \"pant\", \"pant\", \"part\", \"part\", \"part\", \"particular\", \"pay\", \"peach\", \"pear\", \"per\", \"perfect\", \"perfect\", \"perfect\", \"perfectly\", \"perfectly\", \"perfectly\", \"perfectly\", \"petite\", \"petite\", \"photo\", \"photo\", \"photo\", \"photo\", \"picked\", \"picture\", \"picture\", \"picture\", \"picture\", \"picture\", \"piece\", \"piece\", \"piece\", \"piece\", \"pilcro\", \"pink\", \"pink\", \"pite\", \"plaid\", \"pleat\", \"plenty\", \"polye\", \"poor\", \"pop\", \"price\", \"price\", \"price\", \"pring\", \"provided\", \"pu\", \"purcha\", \"purcha\", \"purcha\", \"purcha\", \"purple\", \"quickly\", \"rayon\", \"rea\", \"read\", \"reading\", \"really\", \"really\", \"really\", \"really\", \"really\", \"really\", \"receive\", \"received\", \"received\", \"recently\", \"reference\", \"regular\", \"relaxed\", \"retailer\", \"retailer\", \"retailer\", \"retailer\", \"retailer\", \"review\", \"ri\", \"ri\", \"rich\", \"ripped\", \"room\", \"room\", \"room\", \"room\", \"round\", \"run\", \"run\", \"t\", \"t\", \"t\", \"t\", \"t\", \"t\", \"ta\", \"taken\", \"tan\", \"tank\", \"tantial\", \"taple\", \"taple\", \"tband\", \"te\", \"te\", \"teal\", \"tee\", \"ter\", \"terday\", \"the\", \"the\", \"the\", \"them\", \"they\", \"thi\", \"thi\", \"thi\", \"thi\", \"thi\", \"thi\", \"thinking\", \"thought\", \"thought\", \"thought\", \"thought\", \"through\", \"through\", \"throughout\", \"throw\", \"thru\", \"tic\", \"tice\", \"tight\", \"tight\", \"tight\", \"tight\", \"time\", \"time\", \"time\", \"ting\", \"titching\", \"tly\", \"together\", \"ton\", \"top\", \"top\", \"top\", \"top\", \"top\", \"tore\", \"tore\", \"tran\", \"trange\", \"trap\", \"trap\", \"tretch\", \"tretch\", \"tretch\", \"tretched\", \"tried\", \"tried\", \"tried\", \"trim\", \"tring\", \"trip\", \"try\", \"try\", \"try\", \"try\", \"tummy\", \"tunning\", \"tunning\", \"tunning\", \"turquoi\", \"twice\", \"tyled\", \"tyli\", \"typically\", \"u\", \"u\", \"u\", \"u\", \"ual\", \"ual\", \"ually\", \"ub\", \"ummer\", \"ummer\", \"underneath\", \"underneath\", \"underneath\", \"underneath\", \"unflattering\", \"unlined\", \"uper\", \"uper\", \"uper\", \"uper\", \"uper\", \"uper\", \"v\", \"v\", \"ve\", \"ve\", \"ve\", \"ve\", \"ver\", \"ver\", \"vibe\", \"vibrant\", \"vibrant\", \"vibrant\", \"vibrant\", \"wa\", \"wai\", \"wai\", \"wait\", \"waited\", \"waiting\", \"wardrobe\", \"wardrobe\", \"wardrobe\", \"warm\", \"warm\", \"water\", \"way\", \"way\", \"way\", \"way\", \"way\", \"wear\", \"wear\", \"wear\", \"wear\", \"wear\", \"wear\", \"weat\", \"weater\", \"weater\", \"web\", \"wedding\", \"wedding\", \"weet\", \"weird\", \"well\", \"well\", \"well\", \"well\", \"well\", \"well\", \"went\", \"went\", \"what\", \"when\", \"white\", \"white\", \"white\", \"whole\", \"wi\", \"width\", \"wim\", \"wine\", \"wingy\", \"wonderfully\", \"wool\", \"wore\", \"work\", \"work\", \"work\", \"work\", \"worn\", \"worn\", \"worry\", \"worth\", \"worth\", \"worth\", \"would\", \"would\", \"would\", \"would\", \"would\", \"would\", \"wrap\", \"x\", \"xl\", \"xl\", \"xx\", \"y\", \"ye\", \"ye\", \"year\", \"yellow\", \"yellow\", \"zip\", \"zipper\"]}, \"R\": 30, \"lambda.step\": 0.01, \"plot.opts\": {\"xlab\": \"PC1\", \"ylab\": \"PC2\"}, \"topic.order\": [2, 1, 10, 4, 3, 5, 9, 6, 8, 7]};\n",
       "\n",
       "function LDAvis_load_lib(url, callback){\n",
       "  var s = document.createElement('script');\n",
       "  s.src = url;\n",
       "  s.async = true;\n",
       "  s.onreadystatechange = s.onload = callback;\n",
       "  s.onerror = function(){console.warn(\"failed to load library \" + url);};\n",
       "  document.getElementsByTagName(\"head\")[0].appendChild(s);\n",
       "}\n",
       "\n",
       "if(typeof(LDAvis) !== \"undefined\"){\n",
       "   // already loaded: just create the visualization\n",
       "   !function(LDAvis){\n",
       "       new LDAvis(\"#\" + \"ldavis_el932421414762632326194748608\", ldavis_el932421414762632326194748608_data);\n",
       "   }(LDAvis);\n",
       "}else if(typeof define === \"function\" && define.amd){\n",
       "   // require.js is available: use it to load d3/LDAvis\n",
       "   require.config({paths: {d3: \"https://d3js.org/d3.v5\"}});\n",
       "   require([\"d3\"], function(d3){\n",
       "      window.d3 = d3;\n",
       "      LDAvis_load_lib(\"https://cdn.jsdelivr.net/gh/bmabey/pyLDAvis@3.4.0/pyLDAvis/js/ldavis.v3.0.0.js\", function(){\n",
       "        new LDAvis(\"#\" + \"ldavis_el932421414762632326194748608\", ldavis_el932421414762632326194748608_data);\n",
       "      });\n",
       "    });\n",
       "}else{\n",
       "    // require.js not available: dynamically load d3 & LDAvis\n",
       "    LDAvis_load_lib(\"https://d3js.org/d3.v5.js\", function(){\n",
       "         LDAvis_load_lib(\"https://cdn.jsdelivr.net/gh/bmabey/pyLDAvis@3.4.0/pyLDAvis/js/ldavis.v3.0.0.js\", function(){\n",
       "                 new LDAvis(\"#\" + \"ldavis_el932421414762632326194748608\", ldavis_el932421414762632326194748608_data);\n",
       "            })\n",
       "         });\n",
       "}\n",
       "</script>"
      ],
      "text/plain": [
       "PreparedData(topic_coordinates=              x         y  topics  cluster       Freq\n",
       "topic                                                \n",
       "1     -0.184180  0.002554       1        1  27.421683\n",
       "0     -0.185875 -0.070406       2        1  20.823385\n",
       "9     -0.190005  0.016206       3        1  13.605128\n",
       "3     -0.199760  0.035149       4        1  11.832670\n",
       "2     -0.084189 -0.077696       5        1  10.064641\n",
       "4     -0.073686  0.175152       6        1   6.298533\n",
       "8      0.102758 -0.291020       7        1   3.713833\n",
       "5      0.168449  0.249271       8        1   3.041221\n",
       "7      0.307002 -0.156251       9        1   1.852736\n",
       "6      0.339486  0.117041      10        1   1.346170, topic_info=          Term          Freq         Total Category  logprob  loglift\n",
       "162          t  12136.000000  12136.000000  Default  30.0000  30.0000\n",
       "51         ize   9524.000000   9524.000000  Default  29.0000  29.0000\n",
       "155         on   3783.000000   3783.000000  Default  28.0000  28.0000\n",
       "264     review   2295.000000   2295.000000  Default  27.0000  27.0000\n",
       "9          dre  12530.000000  12530.000000  Default  26.0000  26.0000\n",
       "...        ...           ...           ...      ...      ...      ...\n",
       "1473  detailed     57.276397     58.193861  Topic10  -5.1926   4.2920\n",
       "1405       fre     55.856003     56.773533  Topic10  -5.2177   4.2916\n",
       "1307       fur     55.188837     56.106316  Topic10  -5.2297   4.2914\n",
       "3385  charming     49.621858     50.539469  Topic10  -5.3360   4.2896\n",
       "494         he    214.706662    319.915331  Topic10  -3.8712   3.9091\n",
       "\n",
       "[590 rows x 6 columns], token_table=      Topic      Freq    Term\n",
       "term                         \n",
       "0         9  0.999181      ab\n",
       "1000      1  0.994508      ad\n",
       "88        1  0.997279    adju\n",
       "416       1  0.998571    adly\n",
       "2169      9  0.995795   adore\n",
       "...     ...       ...     ...\n",
       "237       7  0.998258    year\n",
       "1471      4  0.473719  yellow\n",
       "1471      8  0.522595  yellow\n",
       "73        1  0.997161     zip\n",
       "74        1  0.997260  zipper\n",
       "\n",
       "[959 rows x 3 columns], R=30, lambda_step=0.01, plot_opts={'xlab': 'PC1', 'ylab': 'PC2'}, topic_order=[2, 1, 10, 4, 3, 5, 9, 6, 8, 7])"
      ]
     },
     "execution_count": 78,
     "metadata": {},
     "output_type": "execute_result"
    }
   ],
   "source": [
    "pyLDAvis.enable_notebook()\n",
    "# feed the LDA model into the pyLDAvis instance\n",
    "vis = pyLDAvis.gensim_models.prepare(lda_model, doc_term_matrix, dictionary)     \n",
    "vis"
   ]
  },
  {
   "cell_type": "code",
   "execution_count": null,
   "id": "54d360e1-d2b6-47c3-a012-ac6efb50eb70",
   "metadata": {},
   "outputs": [],
   "source": []
  }
 ],
 "metadata": {
  "kernelspec": {
   "display_name": "Python 3 (ipykernel)",
   "language": "python",
   "name": "python3"
  },
  "language_info": {
   "codemirror_mode": {
    "name": "ipython",
    "version": 3
   },
   "file_extension": ".py",
   "mimetype": "text/x-python",
   "name": "python",
   "nbconvert_exporter": "python",
   "pygments_lexer": "ipython3",
   "version": "3.11.7"
  }
 },
 "nbformat": 4,
 "nbformat_minor": 5
}
